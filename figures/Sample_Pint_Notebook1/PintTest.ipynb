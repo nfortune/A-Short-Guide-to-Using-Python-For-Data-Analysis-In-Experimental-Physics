{
 "cells": [
  {
   "cell_type": "markdown",
   "metadata": {},
   "source": [
    "# calculations with units\n",
    "\n",
    "We use the Python package [Pint](http://pint.readthedocs.io/en/stable/index.html \"Python package to define, operate and manipulate physical quantities\") by Hernan Greco. Although not included in the standard installer package, it is still relatively easy to install using Anaconda Navigator using the 'pip install --upgrade pint' command from the terminal window. See documentation page for Pint and screenshot below.  "
   ]
  },
  {
   "cell_type": "markdown",
   "metadata": {},
   "source": [
    "![Pint_Install_ScreenShot.png](Pint_Install_ScreenShot.png)"
   ]
  },
  {
   "cell_type": "code",
   "execution_count": 1,
   "metadata": {
    "collapsed": true
   },
   "outputs": [],
   "source": [
    "import numpy as np \n",
    "# numpy (NUmerical PYthon) is a ubiquitous numerical analysis package for python \n",
    "# 'as np' allows us to use the standard abbreviation 'np' in place of 'numpy' "
   ]
  },
  {
   "cell_type": "code",
   "execution_count": 2,
   "metadata": {
    "collapsed": true
   },
   "outputs": [],
   "source": [
    "import pint # a useful package for calculations using units\n",
    "\n",
    "unit = pint.UnitRegistry()  # here we use 'unit' instead of the more standard 'ureg' for clarity\n",
    "Q_ = unit.Quantity "
   ]
  },
  {
   "cell_type": "markdown",
   "metadata": {},
   "source": [
    "### demonstration of pint"
   ]
  },
  {
   "cell_type": "code",
   "execution_count": 3,
   "metadata": {
    "collapsed": false
   },
   "outputs": [
    {
     "name": "stdout",
     "output_type": "stream",
     "text": [
      "1.0 kilogram\n",
      "9.8 newton / kilogram\n"
     ]
    }
   ],
   "source": [
    "m = Q_(1.0, 'kg')\n",
    "g  = 9.8  * unit.newton / unit.kg\n",
    "print(m)\n",
    "print(g)"
   ]
  },
  {
   "cell_type": "code",
   "execution_count": 4,
   "metadata": {
    "collapsed": false
   },
   "outputs": [
    {
     "name": "stdout",
     "output_type": "stream",
     "text": [
      "9.8 N/kg\n"
     ]
    }
   ],
   "source": [
    "print('{:~P}'.format(g))"
   ]
  },
  {
   "cell_type": "code",
   "execution_count": 5,
   "metadata": {
    "collapsed": false
   },
   "outputs": [
    {
     "name": "stdout",
     "output_type": "stream",
     "text": [
      "9.8 m/s²\n"
     ]
    }
   ],
   "source": [
    "g_acceleration = g.to_base_units()\n",
    "print('{:~P}'.format(g_acceleration))"
   ]
  },
  {
   "cell_type": "markdown",
   "metadata": {},
   "source": [
    "### sample calculations"
   ]
  },
  {
   "cell_type": "code",
   "execution_count": 6,
   "metadata": {
    "collapsed": false
   },
   "outputs": [
    {
     "name": "stdout",
     "output_type": "stream",
     "text": [
      "9.8 N\n"
     ]
    }
   ],
   "source": [
    "gravitational_force = m * g\n",
    "print('{:~1gP}'.format(gravitational_force))"
   ]
  },
  {
   "cell_type": "code",
   "execution_count": 7,
   "metadata": {
    "collapsed": false
   },
   "outputs": [
    {
     "name": "stdout",
     "output_type": "stream",
     "text": [
      "9.8\n",
      "newton\n",
      "[length] * [mass] / [time] ** 2\n"
     ]
    }
   ],
   "source": [
    "print(gravitational_force.magnitude)\n",
    "print(gravitational_force.units)\n",
    "print(gravitational_force.dimensionality)"
   ]
  },
  {
   "cell_type": "code",
   "execution_count": 8,
   "metadata": {
    "collapsed": false
   },
   "outputs": [
    {
     "name": "stdout",
     "output_type": "stream",
     "text": [
      "9.8 kilogram * meter / second ** 2\n"
     ]
    }
   ],
   "source": [
    "net_force = m * g_acceleration #if only force is gravitational\n",
    "print(net_force)"
   ]
  },
  {
   "cell_type": "code",
   "execution_count": 9,
   "metadata": {
    "collapsed": false
   },
   "outputs": [
    {
     "data": {
      "text/html": [
       "9.8 newton"
      ],
      "text/latex": [
       "$9.8\\ \\mathrm{newton}$"
      ],
      "text/plain": [
       "<Quantity(9.8, 'newton')>"
      ]
     },
     "execution_count": 9,
     "metadata": {},
     "output_type": "execute_result"
    }
   ],
   "source": [
    "net_force.to(unit.newton)"
   ]
  },
  {
   "cell_type": "code",
   "execution_count": 10,
   "metadata": {
    "collapsed": true
   },
   "outputs": [],
   "source": [
    "mass_magnitudes = np.array([0.1, 0.2, 0.5, 1.0, 2.0, 5.0, 10.0])\n",
    "masses = mass_magnitudes * unit.kg"
   ]
  },
  {
   "cell_type": "code",
   "execution_count": 11,
   "metadata": {
    "collapsed": false
   },
   "outputs": [
    {
     "name": "stdout",
     "output_type": "stream",
     "text": [
      "[  0.1   0.2   0.5   1.    2.    5.   10. ] kg\n"
     ]
    }
   ],
   "source": [
    "print('{:~P}'.format(masses))"
   ]
  },
  {
   "cell_type": "code",
   "execution_count": 12,
   "metadata": {
    "collapsed": false
   },
   "outputs": [
    {
     "data": {
      "text/plain": [
       "array([  0.1,   0.2,   0.5,   1. ,   2. ,   5. ,  10. ])"
      ]
     },
     "execution_count": 12,
     "metadata": {},
     "output_type": "execute_result"
    }
   ],
   "source": [
    "masses.magnitude"
   ]
  },
  {
   "cell_type": "code",
   "execution_count": 13,
   "metadata": {
    "collapsed": false
   },
   "outputs": [
    {
     "name": "stdout",
     "output_type": "stream",
     "text": [
      "[  0.98   1.96   4.9    9.8   19.6   49.    98.  ] N\n"
     ]
    }
   ],
   "source": [
    "print('{:~P}'.format(masses * g))"
   ]
  }
 ],
 "metadata": {
  "kernelspec": {
   "display_name": "Python 3",
   "language": "python",
   "name": "python3"
  },
  "language_info": {
   "codemirror_mode": {
    "name": "ipython",
    "version": 3
   },
   "file_extension": ".py",
   "mimetype": "text/x-python",
   "name": "python",
   "nbconvert_exporter": "python",
   "pygments_lexer": "ipython3",
   "version": "3.4.3"
  },
  "latex_envs": {
   "LaTeX_envs_menu_present": true,
   "autoclose": false,
   "autocomplete": true,
   "bibliofile": "biblio.bib",
   "cite_by": "apalike",
   "current_citInitial": 1,
   "eqLabelWithNumbers": true,
   "eqNumInitial": 1,
   "hotkeys": {
    "equation": "Ctrl-E",
    "itemize": "Ctrl-I"
   },
   "labels_anchors": false,
   "latex_user_defs": false,
   "report_style_numbering": false,
   "user_envs_cfg": false
  }
 },
 "nbformat": 4,
 "nbformat_minor": 2
}
