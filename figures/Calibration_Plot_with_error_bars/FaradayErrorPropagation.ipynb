{
 "cells": [
  {
   "cell_type": "code",
   "execution_count": 1,
   "metadata": {},
   "outputs": [
    {
     "name": "stdout",
     "output_type": "stream",
     "text": [
      "/Users\n"
     ]
    }
   ],
   "source": [
    "%matplotlib inline\n",
    "%cd .."
   ]
  },
  {
   "cell_type": "code",
   "execution_count": 2,
   "metadata": {},
   "outputs": [],
   "source": [
    "from numpy import *\n",
    "from scipy.optimize import curve_fit\n",
    "from scipy.stats import chi2"
   ]
  },
  {
   "cell_type": "code",
   "execution_count": 3,
   "metadata": {},
   "outputs": [],
   "source": [
    "#file_folder = '/Users/nfortune/Google Drive File Stream/My Drive/Python Workspace/tutorials/'\n",
    "file_folder = ''"
   ]
  },
  {
   "cell_type": "code",
   "execution_count": 4,
   "metadata": {},
   "outputs": [],
   "source": [
    "file_name = '650 nm calibration.csv'"
   ]
  },
  {
   "cell_type": "code",
   "execution_count": 5,
   "metadata": {},
   "outputs": [],
   "source": [
    "angle, V_pd = loadtxt(file_folder + file_name, delimiter = ',', skiprows =1, unpack = True)"
   ]
  },
  {
   "cell_type": "code",
   "execution_count": 6,
   "metadata": {},
   "outputs": [
    {
     "name": "stdout",
     "output_type": "stream",
     "text": [
      "[  0.  15.  30.  45.  60.  75.  90. 105. 120. 135. 150. 165. 180. 195.\n",
      " 210. 225. 240. 255. 270. 285. 300. 315. 330. 345. 360.]\n"
     ]
    }
   ],
   "source": [
    "print(angle)"
   ]
  },
  {
   "cell_type": "code",
   "execution_count": 7,
   "metadata": {},
   "outputs": [
    {
     "name": "stdout",
     "output_type": "stream",
     "text": [
      "[32.3625 30.0808 24.0285 15.8815  7.7794  1.9571  0.0357  2.5839  8.946\n",
      " 17.386  25.6438 31.3107 33.0189 30.286  23.8906 15.6139  7.5459  1.8841\n",
      "  0.0338  2.4588  8.5142 16.6195 24.6587 30.5141 32.5163]\n"
     ]
    }
   ],
   "source": [
    "print(V_pd)"
   ]
  },
  {
   "cell_type": "code",
   "execution_count": 8,
   "metadata": {},
   "outputs": [],
   "source": [
    "V0 = 30.0    #peak value - offset voltage, in mV\n",
    "dV0 = 0.02 # initial guess, in mV\n",
    "\n",
    "theta0 = -2.0 * pi / 180   #offset angle of 1 degree, in radians\n",
    "dtheta = 0.5 * pi / 180       # phi = theta - theta0. Leave this unchanged. \n",
    "\n",
    "V1 = 0.02 #offset voltage, in mV\n",
    "dV1 = 0.014 #initial guess, in mV\n",
    "\n",
    "theta = angle * pi/180 "
   ]
  },
  {
   "cell_type": "code",
   "execution_count": 9,
   "metadata": {},
   "outputs": [],
   "source": [
    "def polarization_model_1( phi, V_0, phi_0, V_1): # variation of light intensity with  relative polarizer angle\n",
    "    return V_0 * (1 + cos(2 * (phi - phi_0)))/2 + V_1"
   ]
  },
  {
   "cell_type": "code",
   "execution_count": 10,
   "metadata": {},
   "outputs": [],
   "source": [
    "def sigma(phi_array, delta_V0, delta_phi, delta_V1, V_0, phi_0):  #calculate delta_V_pd\n",
    "    V_0_error_sq= (delta_V0 / V_0)**2 * (cos(phi_array - phi_0))**4\n",
    "    phi_error_sq = (delta_phi)**2 * (2 * cos(phi_array- phi_0) * sin(phi_array - phi_0))**2\n",
    "    V_1_error_sq = (delta_V1 / V_0)**2 \n",
    "    fractional_error = sqrt(V_0_error_sq + V_1_error_sq + phi_error_sq)\n",
    "    return fractional_error * V_0"
   ]
  },
  {
   "cell_type": "code",
   "execution_count": 11,
   "metadata": {},
   "outputs": [
    {
     "name": "stdout",
     "output_type": "stream",
     "text": [
      "[ 3.0000000e+01 -3.4906585e-02  2.0000000e-02]\n",
      "[0.02       0.00872665 0.014     ]\n"
     ]
    }
   ],
   "source": [
    "initial_guess = array([V0, theta0, V1])\n",
    "initial_error = array([dV0, dtheta, dV1])\n",
    "print(initial_guess)\n",
    "print(initial_error)"
   ]
  },
  {
   "cell_type": "code",
   "execution_count": 12,
   "metadata": {},
   "outputs": [
    {
     "name": "stdout",
     "output_type": "stream",
     "text": [
      "[0.03047186 0.14819727 0.23615829 0.26170202 0.21753725 0.11562049\n",
      " 0.02301105 0.14707419 0.23578674 0.26175532 0.21805076 0.11716491\n",
      " 0.03047186 0.14819727 0.23615829 0.26170202 0.21753725 0.11562049\n",
      " 0.02301105 0.14707419 0.23578674 0.26175532 0.21805076 0.11716491\n",
      " 0.03047186]\n"
     ]
    }
   ],
   "source": [
    "estimated_error = sigma(theta, dV0, dtheta, dV1, V0, theta0 )\n",
    "print(estimated_error)"
   ]
  },
  {
   "cell_type": "code",
   "execution_count": 13,
   "metadata": {},
   "outputs": [
    {
     "name": "stdout",
     "output_type": "stream",
     "text": [
      "\n",
      "[ 3.0000000e+01 -3.4906585e-02  2.0000000e-02]\n",
      "[ 3.26313779e+01 -2.02784389e-02  2.30194631e-02]\n",
      "\n",
      "chi-square         =  15.744330688771445\n",
      "degrees of freedom =  22\n",
      "reduced chi-square =  0.7156513949441566\n",
      "fractional probability of chisq ≤ 15.744330688771445 for  22 dof is 0.17163107599593747\n"
     ]
    }
   ],
   "source": [
    "estimated_error = sigma(theta, dV0, dtheta, dV1, V0, theta0 )\n",
    "\n",
    "fit, covariance = curve_fit(polarization_model_1, theta, V_pd, \n",
    "                       p0 = initial_guess, \n",
    "                       sigma = estimated_error, absolute_sigma = True)\n",
    "error = sqrt(diag(covariance))\n",
    "\n",
    "print()\n",
    "print(initial_guess)\n",
    "print(fit)\n",
    "old_fit = copy(fit)\n",
    "print()\n",
    "\n",
    "V_pd_model = polarization_model_1(theta, fit[0], fit[1], fit[2])\n",
    "residual = V_pd - V_pd_model\n",
    "\n",
    "chisq = sum((residual/ estimated_error))**2\n",
    "degrees_of_freedom = len(residual) - len(initial_guess)\n",
    "reduced_chisq = chisq / degrees_of_freedom  # this should be close to one\n",
    "CDF = chi2.cdf(chisq, degrees_of_freedom)   # this should be close to 50 percent\n",
    "\n",
    "print('chi-square         = ',chisq)\n",
    "print('degrees of freedom = ',degrees_of_freedom)\n",
    "print('reduced chi-square = ',reduced_chisq)\n",
    "print('fractional probability of chisq ≤', chisq, 'for ', degrees_of_freedom, 'dof is', CDF)"
   ]
  },
  {
   "cell_type": "code",
   "execution_count": 14,
   "metadata": {},
   "outputs": [
    {
     "name": "stdout",
     "output_type": "stream",
     "text": [
      "\n",
      "[ 3.26313779e+01 -2.02784389e-02  2.30194631e-02]\n",
      "[ 3.26303079e+01 -2.01519562e-02  2.24248238e-02]\n",
      "\n",
      "chi-square         =  14.004062546257751\n",
      "degrees of freedom =  22\n",
      "reduced chi-square =  0.6365482975571705\n",
      "fractional probability of chisq ≤ 14.004062546257751 for  22 dof is 0.098665043275515\n"
     ]
    }
   ],
   "source": [
    "estimated_error = sigma(theta, error[0], dtheta, error[2], fit[0], fit[1])\n",
    "\n",
    "\n",
    "fit, covariance = curve_fit(polarization_model_1, theta, V_pd, \n",
    "                       p0 = fit, \n",
    "                       sigma = estimated_error, absolute_sigma = True)\n",
    "error = sqrt(diag(covariance))\n",
    "\n",
    "print()\n",
    "print(old_fit)\n",
    "print(fit)\n",
    "old_fit = copy(fit)\n",
    "print()\n",
    "\n",
    "V_pd_model = polarization_model_1(theta, fit[0], fit[1], fit[2])\n",
    "residual = V_pd - V_pd_model\n",
    "\n",
    "chisq = sum((residual/ estimated_error))**2\n",
    "degrees_of_freedom = len(residual) - len(initial_guess)\n",
    "reduced_chisq = chisq / degrees_of_freedom  # this should be close to one\n",
    "CDF = chi2.cdf(chisq, degrees_of_freedom)   # this should be close to 50 percent\n",
    "\n",
    "print('chi-square         = ',chisq)\n",
    "print('degrees of freedom = ',degrees_of_freedom)\n",
    "print('reduced chi-square = ',reduced_chisq)\n",
    "print('fractional probability of chisq ≤', chisq, 'for ', degrees_of_freedom, 'dof is', CDF)"
   ]
  },
  {
   "cell_type": "code",
   "execution_count": 15,
   "metadata": {},
   "outputs": [
    {
     "name": "stdout",
     "output_type": "stream",
     "text": [
      "\n",
      "[ 3.26303079e+01 -2.01519562e-02  2.24248238e-02]\n",
      "[ 3.26296873e+01 -2.01549132e-02  2.22848239e-02]\n",
      "\n",
      "chi-square         =  14.721623038261729\n",
      "degrees of freedom =  22\n",
      "reduced chi-square =  0.6691646835573514\n",
      "fractional probability of chisq ≤ 14.721623038261729 for  22 dof is 0.12609500101904145\n"
     ]
    }
   ],
   "source": [
    "estimated_error = sigma(theta, error[0], dtheta, error[2], fit[0], fit[1])\n",
    "\n",
    "\n",
    "fit, covariance = curve_fit(polarization_model_1, theta, V_pd, \n",
    "                       p0 = fit, \n",
    "                       sigma = estimated_error, absolute_sigma = True)\n",
    "error = sqrt(diag(covariance))\n",
    "\n",
    "print()\n",
    "print(old_fit)\n",
    "print(fit)\n",
    "old_fit = copy(fit)\n",
    "print()\n",
    "\n",
    "V_pd_model = polarization_model_1(theta, fit[0], fit[1], fit[2])\n",
    "residual = V_pd - V_pd_model\n",
    "\n",
    "chisq = sum((residual/ estimated_error))**2\n",
    "degrees_of_freedom = len(residual) - len(initial_guess)\n",
    "reduced_chisq = chisq / degrees_of_freedom  # this should be close to one\n",
    "CDF = chi2.cdf(chisq, degrees_of_freedom)   # this should be close to 50 percent\n",
    "\n",
    "print('chi-square         = ',chisq)\n",
    "print('degrees of freedom = ',degrees_of_freedom)\n",
    "print('reduced chi-square = ',reduced_chisq)\n",
    "print('fractional probability of chisq ≤', chisq, 'for ', degrees_of_freedom, 'dof is', CDF)"
   ]
  },
  {
   "cell_type": "code",
   "execution_count": 16,
   "metadata": {},
   "outputs": [
    {
     "name": "stdout",
     "output_type": "stream",
     "text": [
      "\n",
      "[ 3.26296873e+01 -2.01549132e-02  2.22848239e-02]\n",
      "[ 3.26291262e+01 -2.01588101e-02  2.22188497e-02]\n",
      "\n",
      "chi-square         =  15.310662879986436\n",
      "degrees of freedom =  22\n",
      "reduced chi-square =  0.6959392218175653\n",
      "fractional probability of chisq ≤ 15.310662879986436 for  22 dof is 0.15143555577840176\n"
     ]
    }
   ],
   "source": [
    "estimated_error = sigma(theta, error[0], dtheta, error[2], fit[0], fit[1])\n",
    "\n",
    "\n",
    "fit, covariance = curve_fit(polarization_model_1, theta, V_pd, \n",
    "                       p0 = fit, \n",
    "                       sigma = estimated_error, absolute_sigma = True)\n",
    "error = sqrt(diag(covariance))\n",
    "\n",
    "print()\n",
    "print(old_fit)\n",
    "print(fit)\n",
    "old_fit = copy(fit)\n",
    "print()\n",
    "\n",
    "V_pd_model = polarization_model_1(theta, fit[0], fit[1], fit[2])\n",
    "residual = V_pd - V_pd_model\n",
    "\n",
    "chisq = sum((residual/ estimated_error))**2\n",
    "degrees_of_freedom = len(residual) - len(initial_guess)\n",
    "reduced_chisq = chisq / degrees_of_freedom  # this should be close to one\n",
    "CDF = chi2.cdf(chisq, degrees_of_freedom)   # this should be close to 50 percent\n",
    "\n",
    "print('chi-square         = ',chisq)\n",
    "print('degrees of freedom = ',degrees_of_freedom)\n",
    "print('reduced chi-square = ',reduced_chisq)\n",
    "print('fractional probability of chisq ≤', chisq, 'for ', degrees_of_freedom, 'dof is', CDF)"
   ]
  },
  {
   "cell_type": "code",
   "execution_count": 17,
   "metadata": {},
   "outputs": [
    {
     "name": "stdout",
     "output_type": "stream",
     "text": [
      "\n",
      "[ 3.26291262e+01 -2.01588101e-02  2.22188497e-02]\n",
      "[ 3.26287787e+01 -2.01612643e-02  2.21877295e-02]\n",
      "\n",
      "chi-square         =  15.673791099592139\n",
      "degrees of freedom =  22\n",
      "reduced chi-square =  0.7124450499814609\n",
      "fractional probability of chisq ≤ 15.673791099592139 for  22 dof is 0.168260834880863\n"
     ]
    }
   ],
   "source": [
    "estimated_error = sigma(theta, error[0], dtheta, error[2], fit[0], fit[1])\n",
    "\n",
    "\n",
    "fit, covariance = curve_fit(polarization_model_1, theta, V_pd, \n",
    "                       p0 = fit, \n",
    "                       sigma = estimated_error, absolute_sigma = True)\n",
    "error = sqrt(diag(covariance))\n",
    "\n",
    "print()\n",
    "print(old_fit)\n",
    "print(fit)\n",
    "old_fit = copy(fit)\n",
    "print()\n",
    "\n",
    "V_pd_model = polarization_model_1(theta, fit[0], fit[1], fit[2])\n",
    "residual = V_pd - V_pd_model\n",
    "\n",
    "chisq = sum((residual/ estimated_error))**2\n",
    "degrees_of_freedom = len(residual) - len(initial_guess)\n",
    "reduced_chisq = chisq / degrees_of_freedom  # this should be close to one\n",
    "CDF = chi2.cdf(chisq, degrees_of_freedom)   # this should be close to 50 percent\n",
    "\n",
    "print('chi-square         = ',chisq)\n",
    "print('degrees of freedom = ',degrees_of_freedom)\n",
    "print('reduced chi-square = ',reduced_chisq)\n",
    "print('fractional probability of chisq ≤', chisq, 'for ', degrees_of_freedom, 'dof is', CDF)"
   ]
  },
  {
   "cell_type": "code",
   "execution_count": 18,
   "metadata": {},
   "outputs": [
    {
     "name": "stdout",
     "output_type": "stream",
     "text": [
      "\n",
      "[ 3.26287787e+01 -2.01612643e-02  2.21877295e-02]\n",
      "[ 3.26285898e+01 -2.01626123e-02  2.21731366e-02]\n",
      "\n",
      "chi-square         =  15.872109682957621\n",
      "degrees of freedom =  22\n",
      "reduced chi-square =  0.7214595310435282\n",
      "fractional probability of chisq ≤ 15.872109682957621 for  22 dof is 0.17781804894098555\n"
     ]
    }
   ],
   "source": [
    "estimated_error = sigma(theta, error[0], dtheta, error[2], fit[0], fit[1])\n",
    "\n",
    "\n",
    "fit, covariance = curve_fit(polarization_model_1, theta, V_pd, \n",
    "                       p0 = fit, \n",
    "                       sigma = estimated_error, absolute_sigma = True)\n",
    "error = sqrt(diag(covariance))\n",
    "\n",
    "print()\n",
    "print(old_fit)\n",
    "print(fit)\n",
    "old_fit = copy(fit)\n",
    "print()\n",
    "\n",
    "V_pd_model = polarization_model_1(theta, fit[0], fit[1], fit[2])\n",
    "residual = V_pd - V_pd_model\n",
    "\n",
    "chisq = sum((residual/ estimated_error))**2\n",
    "degrees_of_freedom = len(residual) - len(initial_guess)\n",
    "reduced_chisq = chisq / degrees_of_freedom  # this should be close to one\n",
    "CDF = chi2.cdf(chisq, degrees_of_freedom)   # this should be close to 50 percent\n",
    "\n",
    "print('chi-square         = ',chisq)\n",
    "print('degrees of freedom = ',degrees_of_freedom)\n",
    "print('reduced chi-square = ',reduced_chisq)\n",
    "print('fractional probability of chisq ≤', chisq, 'for ', degrees_of_freedom, 'dof is', CDF)"
   ]
  },
  {
   "cell_type": "code",
   "execution_count": 19,
   "metadata": {},
   "outputs": [
    {
     "name": "stdout",
     "output_type": "stream",
     "text": [
      "\n",
      "[ 3.26285898e+01 -2.01626123e-02  2.21731366e-02]\n",
      "[ 3.26284932e+01 -2.01632934e-02  2.21663155e-02]\n",
      "\n",
      "chi-square         =  15.973685342718456\n",
      "degrees of freedom =  22\n",
      "reduced chi-square =  0.7260766064872025\n",
      "fractional probability of chisq ≤ 15.973685342718456 for  22 dof is 0.1828103423056013\n"
     ]
    }
   ],
   "source": [
    "estimated_error = sigma(theta, error[0], dtheta, error[2], fit[0], fit[1])\n",
    "\n",
    "\n",
    "fit, covariance = curve_fit(polarization_model_1, theta, V_pd, \n",
    "                       p0 = fit, \n",
    "                       sigma = estimated_error, absolute_sigma = True)\n",
    "error = sqrt(diag(covariance))\n",
    "\n",
    "print()\n",
    "print(old_fit)\n",
    "print(fit)\n",
    "old_fit = copy(fit)\n",
    "print()\n",
    "\n",
    "V_pd_model = polarization_model_1(theta, fit[0], fit[1], fit[2])\n",
    "residual = V_pd - V_pd_model\n",
    "\n",
    "chisq = sum((residual/ estimated_error))**2\n",
    "degrees_of_freedom = len(residual) - len(initial_guess)\n",
    "reduced_chisq = chisq / degrees_of_freedom  # this should be close to one\n",
    "CDF = chi2.cdf(chisq, degrees_of_freedom)   # this should be close to 50 percent\n",
    "\n",
    "print('chi-square         = ',chisq)\n",
    "print('degrees of freedom = ',degrees_of_freedom)\n",
    "print('reduced chi-square = ',reduced_chisq)\n",
    "print('fractional probability of chisq ≤', chisq, 'for ', degrees_of_freedom, 'dof is', CDF)"
   ]
  },
  {
   "cell_type": "code",
   "execution_count": 20,
   "metadata": {},
   "outputs": [
    {
     "name": "stdout",
     "output_type": "stream",
     "text": [
      "\n",
      "[ 3.26284932e+01 -2.01632934e-02  2.21663155e-02]\n",
      "[ 3.26284455e+01 -2.01636323e-02  2.21631062e-02]\n",
      "\n",
      "chi-square         =  16.023895548006696\n",
      "degrees of freedom =  22\n",
      "reduced chi-square =  0.7283588885457589\n",
      "fractional probability of chisq ≤ 16.023895548006696 for  22 dof is 0.18530193035377246\n"
     ]
    }
   ],
   "source": [
    "estimated_error = sigma(theta, error[0], dtheta, error[2], fit[0], fit[1])\n",
    "\n",
    "\n",
    "fit, covariance = curve_fit(polarization_model_1, theta, V_pd, \n",
    "                       p0 = fit, \n",
    "                       sigma = estimated_error, absolute_sigma = True)\n",
    "error = sqrt(diag(covariance))\n",
    "\n",
    "print()\n",
    "print(old_fit)\n",
    "print(fit)\n",
    "old_fit = copy(fit)\n",
    "print()\n",
    "\n",
    "V_pd_model = polarization_model_1(theta, fit[0], fit[1], fit[2])\n",
    "residual = V_pd - V_pd_model\n",
    "\n",
    "chisq = sum((residual/ estimated_error))**2\n",
    "degrees_of_freedom = len(residual) - len(initial_guess)\n",
    "reduced_chisq = chisq / degrees_of_freedom  # this should be close to one\n",
    "CDF = chi2.cdf(chisq, degrees_of_freedom)   # this should be close to 50 percent\n",
    "\n",
    "print('chi-square         = ',chisq)\n",
    "print('degrees of freedom = ',degrees_of_freedom)\n",
    "print('reduced chi-square = ',reduced_chisq)\n",
    "print('fractional probability of chisq ≤', chisq, 'for ', degrees_of_freedom, 'dof is', CDF)"
   ]
  },
  {
   "cell_type": "code",
   "execution_count": 21,
   "metadata": {},
   "outputs": [
    {
     "name": "stdout",
     "output_type": "stream",
     "text": [
      "\n",
      "[ 3.26284455e+01 -2.01636323e-02  2.21631062e-02]\n",
      "[ 3.26284225e+01 -2.01637914e-02  2.21616713e-02]\n",
      "\n",
      "chi-square         =  16.048049109444566\n",
      "degrees of freedom =  22\n",
      "reduced chi-square =  0.7294567777020258\n",
      "fractional probability of chisq ≤ 16.048049109444566 for  22 dof is 0.18650606146256496\n"
     ]
    }
   ],
   "source": [
    "estimated_error = sigma(theta, error[0], dtheta, error[2], fit[0], fit[1])\n",
    "\n",
    "\n",
    "fit, covariance = curve_fit(polarization_model_1, theta, V_pd, \n",
    "                       p0 = fit, \n",
    "                       sigma = estimated_error, absolute_sigma = True)\n",
    "error = sqrt(diag(covariance))\n",
    "\n",
    "print()\n",
    "print(old_fit)\n",
    "print(fit)\n",
    "old_fit = copy(fit)\n",
    "print()\n",
    "\n",
    "V_pd_model = polarization_model_1(theta, fit[0], fit[1], fit[2])\n",
    "residual = V_pd - V_pd_model\n",
    "\n",
    "chisq = sum((residual/ estimated_error))**2\n",
    "degrees_of_freedom = len(residual) - len(initial_guess)\n",
    "reduced_chisq = chisq / degrees_of_freedom  # this should be close to one\n",
    "CDF = chi2.cdf(chisq, degrees_of_freedom)   # this should be close to 50 percent\n",
    "\n",
    "print('chi-square         = ',chisq)\n",
    "print('degrees of freedom = ',degrees_of_freedom)\n",
    "print('reduced chi-square = ',reduced_chisq)\n",
    "print('fractional probability of chisq ≤', chisq, 'for ', degrees_of_freedom, 'dof is', CDF)"
   ]
  },
  {
   "cell_type": "code",
   "execution_count": 22,
   "metadata": {},
   "outputs": [
    {
     "name": "stdout",
     "output_type": "stream",
     "text": [
      "\n",
      "[ 3.26284225e+01 -2.01637914e-02  2.21616713e-02]\n",
      "[ 3.26284114e+01 -2.01638823e-02  2.21609737e-02]\n",
      "\n",
      "chi-square         =  16.05962331425417\n",
      "degrees of freedom =  22\n",
      "reduced chi-square =  0.7299828779206442\n",
      "fractional probability of chisq ≤ 16.05962331425417 for  22 dof is 0.18708434410709485\n"
     ]
    }
   ],
   "source": [
    "estimated_error = sigma(theta, error[0], dtheta, error[2], fit[0], fit[1])\n",
    "\n",
    "\n",
    "fit, covariance = curve_fit(polarization_model_1, theta, V_pd, \n",
    "                       p0 = fit, \n",
    "                       sigma = estimated_error, absolute_sigma = True)\n",
    "error = sqrt(diag(covariance))\n",
    "\n",
    "print()\n",
    "print(old_fit)\n",
    "print(fit)\n",
    "old_fit = copy(fit)\n",
    "print()\n",
    "\n",
    "V_pd_model = polarization_model_1(theta, fit[0], fit[1], fit[2])\n",
    "residual = V_pd - V_pd_model\n",
    "\n",
    "chisq = sum((residual/ estimated_error))**2\n",
    "degrees_of_freedom = len(residual) - len(initial_guess)\n",
    "reduced_chisq = chisq / degrees_of_freedom  # this should be close to one\n",
    "CDF = chi2.cdf(chisq, degrees_of_freedom)   # this should be close to 50 percent\n",
    "\n",
    "print('chi-square         = ',chisq)\n",
    "print('degrees of freedom = ',degrees_of_freedom)\n",
    "print('reduced chi-square = ',reduced_chisq)\n",
    "print('fractional probability of chisq ≤', chisq, 'for ', degrees_of_freedom, 'dof is', CDF)"
   ]
  },
  {
   "cell_type": "code",
   "execution_count": 23,
   "metadata": {},
   "outputs": [
    {
     "name": "stdout",
     "output_type": "stream",
     "text": [
      "\n",
      "[ 3.26284114e+01 -2.01638823e-02  2.21609737e-02]\n",
      "[ 3.26284062e+01 -2.01639099e-02  2.21606397e-02]\n",
      "\n",
      "chi-square         =  16.065123160319033\n",
      "degrees of freedom =  22\n",
      "reduced chi-square =  0.7302328709235923\n",
      "fractional probability of chisq ≤ 16.065123160319033 for  22 dof is 0.18735942133380706\n"
     ]
    }
   ],
   "source": [
    "estimated_error = sigma(theta, error[0], dtheta, error[2], fit[0], fit[1])\n",
    "\n",
    "\n",
    "fit, covariance = curve_fit(polarization_model_1, theta, V_pd, \n",
    "                       p0 = fit, \n",
    "                       sigma = estimated_error, absolute_sigma = True)\n",
    "error = sqrt(diag(covariance))\n",
    "\n",
    "print()\n",
    "print(old_fit)\n",
    "print(fit)\n",
    "old_fit = copy(fit)\n",
    "print()\n",
    "\n",
    "V_pd_model = polarization_model_1(theta, fit[0], fit[1], fit[2])\n",
    "residual = V_pd - V_pd_model\n",
    "\n",
    "chisq = sum((residual/ estimated_error))**2\n",
    "degrees_of_freedom = len(residual) - len(initial_guess)\n",
    "reduced_chisq = chisq / degrees_of_freedom  # this should be close to one\n",
    "CDF = chi2.cdf(chisq, degrees_of_freedom)   # this should be close to 50 percent\n",
    "\n",
    "print('chi-square         = ',chisq)\n",
    "print('degrees of freedom = ',degrees_of_freedom)\n",
    "print('reduced chi-square = ',reduced_chisq)\n",
    "print('fractional probability of chisq ≤', chisq, 'for ', degrees_of_freedom, 'dof is', CDF)"
   ]
  },
  {
   "cell_type": "code",
   "execution_count": 24,
   "metadata": {},
   "outputs": [
    {
     "name": "stdout",
     "output_type": "stream",
     "text": [
      "\n",
      "[ 3.26284062e+01 -2.01639099e-02  2.21606397e-02]\n",
      "[ 3.26284039e+01 -2.01639420e-02  2.21603964e-02]\n",
      "\n",
      "chi-square         =  16.067779465014535\n",
      "degrees of freedom =  22\n",
      "reduced chi-square =  0.7303536120461153\n",
      "fractional probability of chisq ≤ 16.067779465014535 for  22 dof is 0.1874923439713511\n"
     ]
    }
   ],
   "source": [
    "estimated_error = sigma(theta, error[0], dtheta, error[2], fit[0], fit[1])\n",
    "\n",
    "\n",
    "fit, covariance = curve_fit(polarization_model_1, theta, V_pd, \n",
    "                       p0 = fit, \n",
    "                       sigma = estimated_error, absolute_sigma = True)\n",
    "error = sqrt(diag(covariance))\n",
    "\n",
    "print()\n",
    "print(old_fit)\n",
    "print(fit)\n",
    "old_fit = copy(fit)\n",
    "print()\n",
    "\n",
    "V_pd_model = polarization_model_1(theta, fit[0], fit[1], fit[2])\n",
    "residual = V_pd - V_pd_model\n",
    "\n",
    "chisq = sum((residual/ estimated_error))**2\n",
    "degrees_of_freedom = len(residual) - len(initial_guess)\n",
    "reduced_chisq = chisq / degrees_of_freedom  # this should be close to one\n",
    "CDF = chi2.cdf(chisq, degrees_of_freedom)   # this should be close to 50 percent\n",
    "\n",
    "print('chi-square         = ',chisq)\n",
    "print('degrees of freedom = ',degrees_of_freedom)\n",
    "print('reduced chi-square = ',reduced_chisq)\n",
    "print('fractional probability of chisq ≤', chisq, 'for ', degrees_of_freedom, 'dof is', CDF)"
   ]
  },
  {
   "cell_type": "code",
   "execution_count": 25,
   "metadata": {},
   "outputs": [
    {
     "name": "stdout",
     "output_type": "stream",
     "text": [
      "\n",
      "[ 3.26284039e+01 -2.01639420e-02  2.21603964e-02]\n",
      "[ 3.26284026e+01 -2.01639383e-02  2.21604798e-02]\n",
      "\n",
      "chi-square         =  16.068760330262933\n",
      "degrees of freedom =  22\n",
      "reduced chi-square =  0.7303981968301333\n",
      "fractional probability of chisq ≤ 16.068760330262933 for  22 dof is 0.187541437818552\n"
     ]
    }
   ],
   "source": [
    "estimated_error = sigma(theta, error[0], dtheta, error[2], fit[0], fit[1])\n",
    "\n",
    "\n",
    "fit, covariance = curve_fit(polarization_model_1, theta, V_pd, \n",
    "                       p0 = fit, \n",
    "                       sigma = estimated_error, absolute_sigma = True)\n",
    "error = sqrt(diag(covariance))\n",
    "\n",
    "print()\n",
    "print(old_fit)\n",
    "print(fit)\n",
    "old_fit = copy(fit)\n",
    "print()\n",
    "\n",
    "V_pd_model = polarization_model_1(theta, fit[0], fit[1], fit[2])\n",
    "residual = V_pd - V_pd_model\n",
    "\n",
    "chisq = sum((residual/ estimated_error))**2\n",
    "degrees_of_freedom = len(residual) - len(initial_guess)\n",
    "reduced_chisq = chisq / degrees_of_freedom  # this should be close to one\n",
    "CDF = chi2.cdf(chisq, degrees_of_freedom)   # this should be close to 50 percent\n",
    "\n",
    "print('chi-square         = ',chisq)\n",
    "print('degrees of freedom = ',degrees_of_freedom)\n",
    "print('reduced chi-square = ',reduced_chisq)\n",
    "print('fractional probability of chisq ≤', chisq, 'for ', degrees_of_freedom, 'dof is', CDF)"
   ]
  },
  {
   "cell_type": "code",
   "execution_count": 26,
   "metadata": {},
   "outputs": [
    {
     "name": "stdout",
     "output_type": "stream",
     "text": [
      "\n",
      "[ 3.26284026e+01 -2.01639383e-02  2.21604798e-02]\n",
      "[ 3.26284021e+01 -2.01639563e-02  2.21603580e-02]\n",
      "\n",
      "chi-square         =  16.0694682732299\n",
      "degrees of freedom =  22\n",
      "reduced chi-square =  0.7304303760559047\n",
      "fractional probability of chisq ≤ 16.0694682732299 for  22 dof is 0.1875768751369495\n"
     ]
    }
   ],
   "source": [
    "estimated_error = sigma(theta, error[0], dtheta, error[2], fit[0], fit[1])\n",
    "\n",
    "\n",
    "fit, covariance = curve_fit(polarization_model_1, theta, V_pd, \n",
    "                       p0 = fit, \n",
    "                       sigma = estimated_error, absolute_sigma = True)\n",
    "error = sqrt(diag(covariance))\n",
    "\n",
    "print()\n",
    "print(old_fit)\n",
    "print(fit)\n",
    "old_fit = copy(fit)\n",
    "print()\n",
    "\n",
    "V_pd_model = polarization_model_1(theta, fit[0], fit[1], fit[2])\n",
    "residual = V_pd - V_pd_model\n",
    "\n",
    "chisq = sum((residual/ estimated_error))**2\n",
    "degrees_of_freedom = len(residual) - len(initial_guess)\n",
    "reduced_chisq = chisq / degrees_of_freedom  # this should be close to one\n",
    "CDF = chi2.cdf(chisq, degrees_of_freedom)   # this should be close to 50 percent\n",
    "\n",
    "print('chi-square         = ',chisq)\n",
    "print('degrees of freedom = ',degrees_of_freedom)\n",
    "print('reduced chi-square = ',reduced_chisq)\n",
    "print('fractional probability of chisq ≤', chisq, 'for ', degrees_of_freedom, 'dof is', CDF)"
   ]
  },
  {
   "cell_type": "code",
   "execution_count": 27,
   "metadata": {},
   "outputs": [
    {
     "name": "stdout",
     "output_type": "stream",
     "text": [
      "\n",
      "[ 3.26284021e+01 -2.01639563e-02  2.21603580e-02]\n",
      "[ 3.26284019e+01 -2.01639447e-02  2.21603231e-02]\n",
      "\n",
      "chi-square         =  16.069763232726796\n",
      "degrees of freedom =  22\n",
      "reduced chi-square =  0.7304437833057634\n",
      "fractional probability of chisq ≤ 16.069763232726796 for  22 dof is 0.18759164075389725\n"
     ]
    }
   ],
   "source": [
    "estimated_error = sigma(theta, error[0], dtheta, error[2], fit[0], fit[1])\n",
    "\n",
    "\n",
    "fit, covariance = curve_fit(polarization_model_1, theta, V_pd, \n",
    "                       p0 = fit, \n",
    "                       sigma = estimated_error, absolute_sigma = True)\n",
    "error = sqrt(diag(covariance))\n",
    "\n",
    "print()\n",
    "print(old_fit)\n",
    "print(fit)\n",
    "old_fit = copy(fit)\n",
    "print()\n",
    "\n",
    "V_pd_model = polarization_model_1(theta, fit[0], fit[1], fit[2])\n",
    "residual = V_pd - V_pd_model\n",
    "\n",
    "chisq = sum((residual/ estimated_error))**2\n",
    "degrees_of_freedom = len(residual) - len(initial_guess)\n",
    "reduced_chisq = chisq / degrees_of_freedom  # this should be close to one\n",
    "CDF = chi2.cdf(chisq, degrees_of_freedom)   # this should be close to 50 percent\n",
    "\n",
    "print('chi-square         = ',chisq)\n",
    "print('degrees of freedom = ',degrees_of_freedom)\n",
    "print('reduced chi-square = ',reduced_chisq)\n",
    "print('fractional probability of chisq ≤', chisq, 'for ', degrees_of_freedom, 'dof is', CDF)"
   ]
  },
  {
   "cell_type": "code",
   "execution_count": 28,
   "metadata": {},
   "outputs": [
    {
     "name": "stdout",
     "output_type": "stream",
     "text": [
      "\n",
      "[ 3.26284019e+01 -2.01639447e-02  2.21603231e-02]\n",
      "[ 3.26284017e+01 -2.01639395e-02  2.21603984e-02]\n",
      "\n",
      "chi-square         =  16.069768996883578\n",
      "degrees of freedom =  22\n",
      "reduced chi-square =  0.7304440453128899\n",
      "fractional probability of chisq ≤ 16.069768996883578 for  22 dof is 0.18759192931180763\n"
     ]
    }
   ],
   "source": [
    "estimated_error = sigma(theta, error[0], dtheta, error[2], fit[0], fit[1])\n",
    "\n",
    "\n",
    "fit, covariance = curve_fit(polarization_model_1, theta, V_pd, \n",
    "                       p0 = fit, \n",
    "                       sigma = estimated_error, absolute_sigma = True)\n",
    "error = sqrt(diag(covariance))\n",
    "\n",
    "print()\n",
    "print(old_fit)\n",
    "print(fit)\n",
    "old_fit = copy(fit)\n",
    "print()\n",
    "\n",
    "V_pd_model = polarization_model_1(theta, fit[0], fit[1], fit[2])\n",
    "residual = V_pd - V_pd_model\n",
    "\n",
    "chisq = sum((residual/ estimated_error))**2\n",
    "degrees_of_freedom = len(residual) - len(initial_guess)\n",
    "reduced_chisq = chisq / degrees_of_freedom  # this should be close to one\n",
    "CDF = chi2.cdf(chisq, degrees_of_freedom)   # this should be close to 50 percent\n",
    "\n",
    "print('chi-square         = ',chisq)\n",
    "print('degrees of freedom = ',degrees_of_freedom)\n",
    "print('reduced chi-square = ',reduced_chisq)\n",
    "print('fractional probability of chisq ≤', chisq, 'for ', degrees_of_freedom, 'dof is', CDF)"
   ]
  },
  {
   "cell_type": "code",
   "execution_count": 29,
   "metadata": {},
   "outputs": [
    {
     "name": "stdout",
     "output_type": "stream",
     "text": [
      "\n",
      "[ 3.26284017e+01 -2.01639395e-02  2.21603984e-02]\n",
      "[ 3.26284017e+01 -2.01639444e-02  2.21603133e-02]\n",
      "\n",
      "chi-square         =  16.069961300051425\n",
      "degrees of freedom =  22\n",
      "reduced chi-square =  0.7304527863659739\n",
      "fractional probability of chisq ≤ 16.069961300051425 for  22 dof is 0.1876015562658261\n"
     ]
    }
   ],
   "source": [
    "estimated_error = sigma(theta, error[0], dtheta, error[2], fit[0], fit[1])\n",
    "\n",
    "\n",
    "fit, covariance = curve_fit(polarization_model_1, theta, V_pd, \n",
    "                       p0 = fit, \n",
    "                       sigma = estimated_error, absolute_sigma = True)\n",
    "error = sqrt(diag(covariance))\n",
    "\n",
    "print()\n",
    "print(old_fit)\n",
    "print(fit)\n",
    "old_fit = copy(fit)\n",
    "print()\n",
    "\n",
    "V_pd_model = polarization_model_1(theta, fit[0], fit[1], fit[2])\n",
    "residual = V_pd - V_pd_model\n",
    "\n",
    "chisq = sum((residual/ estimated_error))**2\n",
    "degrees_of_freedom = len(residual) - len(initial_guess)\n",
    "reduced_chisq = chisq / degrees_of_freedom  # this should be close to one\n",
    "CDF = chi2.cdf(chisq, degrees_of_freedom)   # this should be close to 50 percent\n",
    "\n",
    "print('chi-square         = ',chisq)\n",
    "print('degrees of freedom = ',degrees_of_freedom)\n",
    "print('reduced chi-square = ',reduced_chisq)\n",
    "print('fractional probability of chisq ≤', chisq, 'for ', degrees_of_freedom, 'dof is', CDF)"
   ]
  },
  {
   "cell_type": "code",
   "execution_count": 30,
   "metadata": {},
   "outputs": [
    {
     "name": "stdout",
     "output_type": "stream",
     "text": [
      "V_0 =   32.628 ± 0.019 mV\n",
      "V_1 =    0.022 ± 0.012 mV\n",
      "phi_0 = -1.16  ± 0.11  degree\n"
     ]
    }
   ],
   "source": [
    "print('V_0 =  ','{:.3f}'.format(fit[0]), '±', '{:.3f}'.format(error[0]), 'mV')\n",
    "print('V_1 =   ','{:.3f}'.format(fit[2]), '±', '{:.3f}'.format(error[2]), 'mV')\n",
    "print('phi_0 =','{:.2f}'.format(fit[1]*180 / pi), ' ±', '{:.2f}'.format(error[1]*180 / pi), ' degree')"
   ]
  },
  {
   "cell_type": "code",
   "execution_count": 31,
   "metadata": {},
   "outputs": [],
   "source": [
    "V_pd_delta =  sigma(theta, error[0], dtheta, error[2], fit[0], fit[1])"
   ]
  },
  {
   "cell_type": "code",
   "execution_count": 32,
   "metadata": {},
   "outputs": [],
   "source": [
    "from matplotlib import pyplot as plt         #this is the traditional method\n",
    "\n",
    "from matplotlib import rc                    #this allows you to change overall settings\n",
    "rc('xtick', labelsize = 18)                  #use 18 point font for numbering on x axis\n",
    "rc('ytick', labelsize = 18)                  #use 18 point font for numbering on y axis\n",
    "\n"
   ]
  },
  {
   "cell_type": "code",
   "execution_count": 33,
   "metadata": {},
   "outputs": [
    {
     "data": {
      "image/png": "[encoded data removed]",
      "text/plain": [
       "<Figure size 792x576 with 1 Axes>"
      ]
     },
     "metadata": {},
     "output_type": "display_data"
    }
   ],
   "source": [
    "plt.figure(figsize = (11,8))                  #specify figure size as 7 x 5 inches\n",
    "                                             #for default size, type plt.figure() \n",
    "                                             \n",
    "plt.xlabel(r\"$\\theta$ [degrees]\", fontsize = 18) #label axis (using LaTeX commands)\n",
    "plt.ylabel(r\"$V_{pd}$ [volts]\", fontsize = 18)   #use 18 point font for label text\n",
    "\n",
    "plt.errorbar(angle, V_pd,  \n",
    "    xerr=None, yerr=V_pd_delta, \n",
    "    linestyle = 'none', \n",
    "    color = 'blue',  \n",
    "    capsize = 3, capthick = 1, label = \"data\")\n",
    "\n",
    "\n",
    "#create curve showing fit to data \n",
    "angle_fit = linspace(0, 360, 180)\n",
    "theta_fit = angle_fit * pi / 180\n",
    "V_pd_fit = polarization_model_1(theta_fit, fit[0], fit[1], fit[2])\n",
    "\n",
    "\n",
    "plt.legend(loc = 'best')\n",
    "    \n",
    "plt.show()    "
   ]
  },
  {
   "cell_type": "code",
   "execution_count": 34,
   "metadata": {},
   "outputs": [
    {
     "data": {
      "image/png": "[encoded data removed]",
      "text/plain": [
       "<Figure size 792x576 with 1 Axes>"
      ]
     },
     "metadata": {},
     "output_type": "display_data"
    }
   ],
   "source": [
    "plt.figure(figsize = (11,8))                  #specify figure size as 7 x 5 inches\n",
    "                                             #for default size, type plt.figure() \n",
    "                                             \n",
    "plt.xlabel(r\"$\\theta$ [degrees]\", fontsize = 18) #label axis (using LaTeX commands)\n",
    "plt.ylabel(r\"$V_{pd}$ [volts]\", fontsize = 18)   #use 18 point font for label text\n",
    "\n",
    "plt.errorbar(angle, V_pd,  \n",
    "    xerr=None, yerr=V_pd_delta, \n",
    "    linestyle = 'none', \n",
    "    color = 'blue',  \n",
    "    capsize = 3, capthick = 1, label = \"data\")\n",
    "\n",
    "\n",
    "#create curve showing fit to data \n",
    "angle_fit = linspace(0, 360, 180)\n",
    "theta_fit = angle_fit * pi / 180\n",
    "V_pd_fit = polarization_model_1(theta_fit, fit[0], fit[1], fit[2])\n",
    "\n",
    "#plot the curve fit \n",
    "plt.errorbar(angle_fit, V_pd_fit, xerr = None, yerr = None, color = 'red', label = 'fit' )\n",
    "plt.xlim(-15, 375)\n",
    "plt.ylim(-2.5, 40)\n",
    "plt.xticks([0,   30, 60, 90, 120, 150, 180, 210, 240, 270, 300, 330, 360], \n",
    "           ('0', '', '', 90,  '',  '', 180,  '',  '', 270,  '',  '', 360))\n",
    "plt.legend(loc = 'best')\n",
    "    \n",
    "plt.show()    "
   ]
  },
  {
   "cell_type": "code",
   "execution_count": 35,
   "metadata": {},
   "outputs": [
    {
     "data": {
      "image/png": "[encoded data removed]",
      "text/plain": [
       "<Figure size 432x288 with 1 Axes>"
      ]
     },
     "metadata": {},
     "output_type": "display_data"
    },
    {
     "name": "stdout",
     "output_type": "stream",
     "text": [
      "average residual error |model-data|  = 0.192 mV\n",
      "average experimental uncertainty     = 0.175 mV\n"
     ]
    }
   ],
   "source": [
    "residual = V_pd - V_pd_model\n",
    "\n",
    "plt.figure()\n",
    "plt.xlabel(r\"$\\theta$ [degrees]\", fontsize = 12)\n",
    "plt.ylabel(r\"residual error [mV]\", fontsize = 12)\n",
    "plt.errorbar(angle, residual, xerr=None, yerr= V_pd_delta, linestyle = 'none', color = 'black', marker = 'o')\n",
    "plt.xticks([0,   30, 60, 90, 120, 150, 180, 210, 240, 270, 300, 330, 360], \n",
    "           ('0', '', '', 90,  '',  '', 180,  '',  '', 270,  '',  '', 360))\n",
    "plt.grid(1)\n",
    "plt.show()\n",
    "\n",
    "print('average residual error |model-data|  =', '{:.3f}'.format(average(absolute(residual))), 'mV')\n",
    "print('average experimental uncertainty     =', '{:.3f}'.format(average(V_pd_delta)), 'mV')"
   ]
  },
  {
   "cell_type": "code",
   "execution_count": 36,
   "metadata": {},
   "outputs": [],
   "source": [
    "\n",
    "output_filename = file_folder + 'Calibration_650nm.csv'                   #provide a name for the new file\n",
    "header_row_text = 'angle, V_pd, V_pd_error'      #make first row of file be a list of column names. Optional. \n",
    "comment_text = ''                                #do not start header row with a '#'. Optional. \n",
    "#comment_text = '#'                              #start the header row with a '#' . Default setting. \n",
    "\n",
    "data = array([angle, V_pd, V_pd_delta]).T        #create a 2D matrix and transpose rows and columns (clever trick) \n",
    "savetxt(output_filename, data, delimiter = ',', header = header_row_text, comments = comment_text) "
   ]
  },
  {
   "cell_type": "code",
   "execution_count": null,
   "metadata": {},
   "outputs": [],
   "source": []
  }
 ],
 "metadata": {
  "kernelspec": {
   "display_name": "Python 3",
   "language": "python",
   "name": "python3"
  },
  "language_info": {
   "codemirror_mode": {
    "name": "ipython",
    "version": 3
   },
   "file_extension": ".py",
   "mimetype": "text/x-python",
   "name": "python",
   "nbconvert_exporter": "python",
   "pygments_lexer": "ipython3",
   "version": "3.6.5"
  },
  "latex_envs": {
   "LaTeX_envs_menu_present": true,
   "autoclose": false,
   "autocomplete": true,
   "bibliofile": "biblio.bib",
   "cite_by": "apalike",
   "current_citInitial": 1,
   "eqLabelWithNumbers": true,
   "eqNumInitial": 1,
   "hotkeys": {
    "equation": "Ctrl-E",
    "itemize": "Ctrl-I"
   },
   "labels_anchors": false,
   "latex_user_defs": false,
   "report_style_numbering": false,
   "user_envs_cfg": false
  },
  "toc": {
   "base_numbering": 1,
   "nav_menu": {
    "height": "340px",
    "width": "244px"
   },
   "number_sections": true,
   "sideBar": true,
   "skip_h1_title": false,
   "title_cell": "Table of Contents",
   "title_sidebar": "Contents",
   "toc_cell": false,
   "toc_position": {
    "height": "calc(100% - 180px)",
    "left": "10px",
    "top": "150px",
    "width": "195px"
   },
   "toc_section_display": true,
   "toc_window_display": false
  }
 },
 "nbformat": 4,
 "nbformat_minor": 2
}
