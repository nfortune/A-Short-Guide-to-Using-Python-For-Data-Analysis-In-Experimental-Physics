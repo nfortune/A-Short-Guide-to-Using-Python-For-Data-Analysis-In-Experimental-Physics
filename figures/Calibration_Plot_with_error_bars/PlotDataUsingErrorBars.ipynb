{
 "cells": [
  {
   "cell_type": "code",
   "execution_count": 14,
   "metadata": {},
   "outputs": [],
   "source": [
    "%matplotlib inline\n",
    "\n",
    "#traditional import method \n",
    "\n",
    "import matplotlib as mpl\n",
    "import matplotlib.pyplot as plt\n",
    "\n",
    "mpl.rc('xtick', labelsize = 18)                  #use 18 point font for numbering on x axis\n",
    "mpl.rc('ytick', labelsize = 18)                  #use 18 point font for numbering on y axis"
   ]
  },
  {
   "cell_type": "code",
   "execution_count": 15,
   "metadata": {},
   "outputs": [],
   "source": [
    "import numpy as np # if you use this, 'numpy' is replaced with the abbreviation 'np'"
   ]
  },
  {
   "cell_type": "code",
   "execution_count": 16,
   "metadata": {},
   "outputs": [],
   "source": [
    "file_name = 'Calibration_650nm.csv'               # replace with the name of your csv data file\n",
    "\n",
    "#file_folder = ''                                 # use this if your data file is in the same folder as your python program\n",
    "\n",
    "file_folder = '/Users/nfortune/data/'              # use this if data file is in a folder called 'data' \n",
    "                                                  # inside the folder 'nfortune' within the 'Users' directory \n",
    "                                                  # such as when using the Jupyter webserver jove.smith.edu\n",
    "                                                  # this is called 'absolute addressing'\n",
    "\n",
    "#file_folder = 'data_subfolder/'                  # you can use this if data file is in a _subfolder_ called 'data_subfolder'\n",
    "                                                  # this is called 'relative addressing'\n",
    "data_file = file_folder + file_name\n",
    "\n",
    "angle, V_pd, V_pd_error  = np.loadtxt(data_file, delimiter = ',', skiprows = 1, usecols = (0, 1, 2), unpack = True)"
   ]
  },
  {
   "cell_type": "code",
   "execution_count": 17,
   "metadata": {},
   "outputs": [
    {
     "name": "stdout",
     "output_type": "stream",
     "text": [
      "[   0.   15.   30.   45.   60.   75.   90.  105.  120.  135.  150.  165.\n",
      "  180.  195.  210.  225.  240.  255.  270.  285.  300.  315.  330.  345.\n",
      "  360.]\n",
      "[ 32.3625  30.0808  24.0285  15.8815   7.7794   1.9571   0.0357   2.5839\n",
      "   8.946   17.386   25.6438  31.3107  33.0189  30.286   23.8906  15.6139\n",
      "   7.5459   1.8841   0.0338   2.4588   8.5142  16.6195  24.6587  30.5141\n",
      "  32.5163]\n",
      "[ 0.02492398  0.15362326  0.25277327  0.28488656  0.24097039  0.13282717\n",
      "  0.01635654  0.15264651  0.25244772  0.28491161  0.24136264  0.13400178\n",
      "  0.02492398  0.15362326  0.25277327  0.28488656  0.24097039  0.13282717\n",
      "  0.01635654  0.15264651  0.25244772  0.28491161  0.24136264  0.13400178\n",
      "  0.02492398]\n"
     ]
    }
   ],
   "source": [
    "print(angle)\n",
    "print(V_pd)\n",
    "print(V_pd_error)"
   ]
  },
  {
   "cell_type": "code",
   "execution_count": 18,
   "metadata": {},
   "outputs": [
    {
     "data": {
      "image/png": "[encoded data removed]",
      "text/plain": [
       "<matplotlib.figure.Figure at 0x7fe9f72a2518>"
      ]
     },
     "metadata": {},
     "output_type": "display_data"
    }
   ],
   "source": [
    "plt.figure(figsize = (11,8.5))                  #specify figure size as 8.5 x 11 inches\n",
    "                                                #to revert to default size, type plt.figure() \n",
    "plt.xlabel(r\"$\\theta$ [degrees]\", fontsize = 18) #label axis (using LaTeX commands)\n",
    "plt.ylabel(r\"$V_{pd}$ [volts]\", fontsize = 18)   #use 18 point font for label text\n",
    "\n",
    "plt.errorbar(angle, V_pd,  \n",
    "    xerr=None, yerr=V_pd_error, \n",
    "    linestyle = 'none', \n",
    "    color = 'blue',  \n",
    "    capsize = 3, capthick = 1)\n",
    "    \n",
    "plt.show()    \n"
   ]
  },
  {
   "cell_type": "code",
   "execution_count": null,
   "metadata": {},
   "outputs": [],
   "source": []
  }
 ],
 "metadata": {
  "kernelspec": {
   "display_name": "Python 3",
   "language": "python",
   "name": "python3"
  },
  "language_info": {
   "codemirror_mode": {
    "name": "ipython",
    "version": 3
   },
   "file_extension": ".py",
   "mimetype": "text/x-python",
   "name": "python",
   "nbconvert_exporter": "python",
   "pygments_lexer": "ipython3",
   "version": "3.6.5"
  }
 },
 "nbformat": 4,
 "nbformat_minor": 2
}
