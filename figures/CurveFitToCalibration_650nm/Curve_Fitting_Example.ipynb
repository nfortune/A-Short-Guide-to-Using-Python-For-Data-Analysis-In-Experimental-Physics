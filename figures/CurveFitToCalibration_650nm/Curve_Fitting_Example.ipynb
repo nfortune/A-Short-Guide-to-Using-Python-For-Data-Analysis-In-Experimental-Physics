{
 "cells": [
  {
   "cell_type": "markdown",
   "metadata": {},
   "source": [
    "## import packages"
   ]
  },
  {
   "cell_type": "code",
   "execution_count": 1,
   "metadata": {},
   "outputs": [],
   "source": [
    "%matplotlib inline\n",
    "\n",
    "#traditional import method \n",
    "\n",
    "import matplotlib as mpl\n",
    "import matplotlib.pyplot as plt\n",
    "\n",
    "mpl.rc('xtick', labelsize = 18)                  #use 18 point font for numbering on x axis\n",
    "mpl.rc('ytick', labelsize = 18)                  #use 18 point font for numbering on y axis"
   ]
  },
  {
   "cell_type": "code",
   "execution_count": 2,
   "metadata": {},
   "outputs": [],
   "source": [
    "import numpy as np # if you use this, 'numpy' is replaced with the abbreviation 'np'"
   ]
  },
  {
   "cell_type": "code",
   "execution_count": 3,
   "metadata": {},
   "outputs": [],
   "source": [
    "from scipy.optimize import curve_fit  # import nonlinear curve fitting routine\n",
    "from scipy.stats import chi2          # 'chi-square' goodness of fit calculation"
   ]
  },
  {
   "cell_type": "markdown",
   "metadata": {},
   "source": [
    "## import data"
   ]
  },
  {
   "cell_type": "code",
   "execution_count": 4,
   "metadata": {},
   "outputs": [],
   "source": [
    "file_name = 'Calibration_650nm.csv'               # replace with the name of your csv data file\n",
    "\n",
    "file_folder = ''                                 # use this if your data file is in the same folder as your python program\n",
    "\n",
    "#file_folder = '/Users/nfortune/data/'              # use this if data file is in a folder called 'data' \n",
    "                                                  # inside the folder 'nfortune' within the 'Users' directory \n",
    "                                                  # such as when using the Jupyter webserver jove.smith.edu\n",
    "                                                  # this is called 'absolute addressing'\n",
    "\n",
    "#file_folder = 'data_subfolder/'                  # you can use this if data file is in a _subfolder_ called 'data_subfolder'\n",
    "                                                  # this is called 'relative addressing'\n",
    "data_file = file_folder + file_name\n",
    "\n",
    "angle, V_pd, V_pd_error  = np.loadtxt(data_file, delimiter = ',', skiprows = 1, usecols = (0, 1, 2), unpack = True)"
   ]
  },
  {
   "cell_type": "code",
   "execution_count": 5,
   "metadata": {},
   "outputs": [],
   "source": [
    "theta = angle * np.pi / 180                      # convert values in angle array to radians "
   ]
  },
  {
   "cell_type": "markdown",
   "metadata": {},
   "source": [
    "## define mathematical model"
   ]
  },
  {
   "cell_type": "code",
   "execution_count": 6,
   "metadata": {},
   "outputs": [],
   "source": [
    "def polarization_model( phi_array, V_0, phi_0, V_1): # variation of light intensity with  relative polarizer angle\n",
    "    return V_0 * (1 + np.cos(2 * (phi_array - phi_0)))/2 + V_1"
   ]
  },
  {
   "cell_type": "code",
   "execution_count": 7,
   "metadata": {},
   "outputs": [],
   "source": [
    "def photodiode_error(phi_array, delta_V_0, delta_phi, delta_V_1, V_0, phi_0):  #calculate delta_V_pd\n",
    "    V_0_error_sq= (delta_V_0 / V_0)**2 * (np.cos(phi_array - phi_0))**4\n",
    "    phi_error_sq = (delta_phi)**2 * (2 * np.cos(phi_array- phi_0) * np.sin(phi_array - phi_0))**2\n",
    "    V_1_error_sq = (delta_V_1 / V_0)**2 \n",
    "    fractional_error = np.sqrt(V_0_error_sq + V_1_error_sq + phi_error_sq)\n",
    "    return fractional_error * V_0"
   ]
  },
  {
   "cell_type": "markdown",
   "metadata": {},
   "source": [
    "## initial values"
   ]
  },
  {
   "cell_type": "code",
   "execution_count": 8,
   "metadata": {},
   "outputs": [],
   "source": [
    "# measured uncertainties\n",
    "delta_V0 = 0.020           # mV, after averaging\n",
    "delta_V1 = 0.014           # mV, after averaging\n",
    "delta_theta = 0.5 * np.pi / 180  # 0.5 degrees, in radians"
   ]
  },
  {
   "cell_type": "code",
   "execution_count": 9,
   "metadata": {},
   "outputs": [],
   "source": [
    "# initial guess for polarization models \n",
    "V0 = 30.0    #initial guess, in mV\n",
    "V1 = 0.02    #initial guess, in mV\n",
    "\n",
    "theta0 = -2.0 * np.pi / 180   #initial guess for offset angle of 2 degree, in radians"
   ]
  },
  {
   "cell_type": "code",
   "execution_count": 10,
   "metadata": {},
   "outputs": [],
   "source": [
    "initial_guess = np.array([V0, theta0, V1])\n",
    "initial_error = np.array([delta_V0, delta_theta, delta_V1])\n",
    "old_fit = np.copy(initial_guess)"
   ]
  },
  {
   "cell_type": "markdown",
   "metadata": {},
   "source": [
    "## curve fitting of model to data"
   ]
  },
  {
   "cell_type": "markdown",
   "metadata": {},
   "source": [
    "### initial fit"
   ]
  },
  {
   "cell_type": "code",
   "execution_count": 11,
   "metadata": {},
   "outputs": [
    {
     "name": "stdout",
     "output_type": "stream",
     "text": [
      "[  3.00000000e+01  -3.49065850e-02   2.00000000e-02]\n",
      "[  3.26313779e+01  -2.02784351e-02   2.30194510e-02]\n",
      "\n",
      "V_0     =  32.631  ± 0.024  mV\n",
      "V_1     =   0.023  ± 0.016  mV\n",
      "theta_0 =  -0.0203 ± 0.0018 radian\n",
      "        =  -1.162  ± 0.102 degrees\n",
      "\n",
      "chi-square         =  10.8374831295\n",
      "degrees of freedom =  22\n",
      "reduced chi-square =  0.492612869524\n",
      "fractional probability of chisq ≤ 10.8374831295 for  22 dof is 0.0230094380387\n"
     ]
    }
   ],
   "source": [
    "# first iteration of curve fitting routine \n",
    "\n",
    "estimated_error = photodiode_error(theta, delta_V0, delta_theta, delta_V1, V0, theta0)\n",
    "\n",
    "fit, covariance = curve_fit(polarization_model, theta, V_pd, \n",
    "                            p0 = initial_guess, \n",
    "                            sigma = estimated_error, absolute_sigma = True)\n",
    "\n",
    "error = np.sqrt(np.diag(covariance))\n",
    "\n",
    "print(old_fit)\n",
    "print(fit)\n",
    "\n",
    "old_fit = np.copy(fit)\n",
    "\n",
    "print()\n",
    "print('V_0     = ','{:.3f}'.format(fit[0]), ' ±', '{:.3f}'.format(error[0]), ' mV')\n",
    "print('V_1     = ',' {:.3f}'.format(fit[2]), ' ±', '{:.3f}'.format(error[2]), ' mV')\n",
    "print('theta_0 = ','{:.4f}'.format(fit[1]), '±', '{:.4f}'.format(error[1]), 'radian')\n",
    "print('        = ','{:.3f}'.format(fit[1]*180/np.pi), ' ±', '{:.3f}'.format(error[1]*180/np.pi), 'degrees')\n",
    "\n",
    "# goodness of fit evaluation\n",
    "\n",
    "V_pd_model = polarization_model(theta, fit[0], fit[1], fit[2])\n",
    "residual = V_pd - V_pd_model\n",
    "\n",
    "data_uncertainty = photodiode_error(theta, delta_V0, delta_theta, delta_V1, fit[0], fit[1])\n",
    "\n",
    "chisq = sum((residual/ data_uncertainty))**2\n",
    "degrees_of_freedom = len(residual) - len(initial_guess)\n",
    "reduced_chisq = chisq / degrees_of_freedom  # this should be close to one\n",
    "CDF = chi2.cdf(chisq, degrees_of_freedom)   # this should be close to 50 percent\n",
    "\n",
    "print()\n",
    "print('chi-square         = ',chisq)\n",
    "print('degrees of freedom = ',degrees_of_freedom)\n",
    "print('reduced chi-square = ',reduced_chisq)\n",
    "print('fractional probability of chisq ≤', chisq, 'for ', degrees_of_freedom, 'dof is', CDF)"
   ]
  },
  {
   "cell_type": "markdown",
   "metadata": {},
   "source": [
    "### recursive fit\n",
    "repeat until get self-consistent result for V0"
   ]
  },
  {
   "cell_type": "code",
   "execution_count": 12,
   "metadata": {},
   "outputs": [
    {
     "name": "stdout",
     "output_type": "stream",
     "text": [
      "[  3.26313779e+01  -2.02784351e-02   2.30194510e-02]\n",
      "[  3.26290079e+01  -2.01610463e-02   2.23048873e-02]\n",
      "\n",
      "chi-square         =  15.2568093664\n",
      "degrees of freedom =  22\n",
      "reduced chi-square =  0.693491334838\n",
      "fractional probability of chisq ≤ 15.2568093664 for  22 dof is 0.149016787641\n"
     ]
    }
   ],
   "source": [
    "new_initial_values = np.array([fit[0], fit[1], fit[2]])  # update values for V0, theta0, V1 \n",
    "                               \n",
    "estimated_error = photodiode_error(theta, delta_V0, delta_theta, delta_V1, \n",
    "                                   fit[0], fit[1])       # propagate error using new values\n",
    "\n",
    "fit, covariance = curve_fit(polarization_model, theta, V_pd, \n",
    "                            p0 = initial_guess, \n",
    "                            sigma = estimated_error, absolute_sigma = True)\n",
    "\n",
    "error = np.sqrt(np.diag(covariance))\n",
    "\n",
    "print(old_fit)\n",
    "print(fit)\n",
    "\n",
    "old_fit = np.copy(fit)\n",
    "\n",
    "# goodness of fit evaluation\n",
    "\n",
    "V_pd_model = polarization_model(theta, fit[0], fit[1], fit[2])\n",
    "residual = V_pd - V_pd_model\n",
    "\n",
    "data_uncertainty = photodiode_error(theta, delta_V0, delta_theta, delta_V1, fit[0], fit[1])\n",
    "\n",
    "chisq = sum((residual/ data_uncertainty))**2\n",
    "degrees_of_freedom = len(residual) - len(initial_guess)\n",
    "reduced_chisq = chisq / degrees_of_freedom  # this should be close to one\n",
    "CDF = chi2.cdf(chisq, degrees_of_freedom)   # this should be close to 50 percent\n",
    "\n",
    "print()\n",
    "print('chi-square         = ',chisq)\n",
    "print('degrees of freedom = ',degrees_of_freedom)\n",
    "print('reduced chi-square = ',reduced_chisq)\n",
    "print('fractional probability of chisq ≤', chisq, 'for ', degrees_of_freedom, 'dof is', CDF)"
   ]
  },
  {
   "cell_type": "code",
   "execution_count": 13,
   "metadata": {},
   "outputs": [
    {
     "name": "stdout",
     "output_type": "stream",
     "text": [
      "[  3.26290079e+01  -2.01610463e-02   2.23048873e-02]\n",
      "[  3.26289975e+01  -2.01600429e-02   2.23017148e-02]\n",
      "\n",
      "chi-square         =  15.2779956829\n",
      "degrees of freedom =  22\n",
      "reduced chi-square =  0.694454349221\n",
      "fractional probability of chisq ≤ 15.2779956829 for  22 dof is 0.149965947887\n"
     ]
    }
   ],
   "source": [
    "new_initial_values = np.array([fit[0], fit[1], fit[2]])  # update values for V0, theta0, V1 \n",
    "                               \n",
    "estimated_error = photodiode_error(theta, delta_V0, delta_theta, delta_V1, \n",
    "                                   fit[0], fit[1])       # propagate error using new values\n",
    "\n",
    "fit, covariance = curve_fit(polarization_model, theta, V_pd, \n",
    "                            p0 = initial_guess, \n",
    "                            sigma = estimated_error, absolute_sigma = True)\n",
    "\n",
    "error = np.sqrt(np.diag(covariance))\n",
    "\n",
    "print(old_fit)\n",
    "print(fit)\n",
    "\n",
    "old_fit = np.copy(fit)\n",
    "\n",
    "# goodness of fit evaluation\n",
    "\n",
    "V_pd_model = polarization_model(theta, fit[0], fit[1], fit[2])\n",
    "residual = V_pd - V_pd_model\n",
    "\n",
    "data_uncertainty = photodiode_error(theta, delta_V0, delta_theta, delta_V1, fit[0], fit[1])\n",
    "\n",
    "chisq = sum((residual/ data_uncertainty))**2\n",
    "degrees_of_freedom = len(residual) - len(initial_guess)\n",
    "reduced_chisq = chisq / degrees_of_freedom  # this should be close to one\n",
    "CDF = chi2.cdf(chisq, degrees_of_freedom)   # this should be close to 50 percent\n",
    "\n",
    "print()\n",
    "print('chi-square         = ',chisq)\n",
    "print('degrees of freedom = ',degrees_of_freedom)\n",
    "print('reduced chi-square = ',reduced_chisq)\n",
    "print('fractional probability of chisq ≤', chisq, 'for ', degrees_of_freedom, 'dof is', CDF)"
   ]
  },
  {
   "cell_type": "code",
   "execution_count": 14,
   "metadata": {
    "scrolled": true
   },
   "outputs": [
    {
     "name": "stdout",
     "output_type": "stream",
     "text": [
      "[  3.26289975e+01  -2.01600429e-02   2.23017148e-02]\n",
      "[  3.26289974e+01  -2.01600389e-02   2.23016636e-02]\n",
      "\n",
      "chi-square         =  15.2782032095\n",
      "degrees of freedom =  22\n",
      "reduced chi-square =  0.694463782251\n",
      "fractional probability of chisq ≤ 15.2782032095 for  22 dof is 0.149975260618\n"
     ]
    }
   ],
   "source": [
    "new_initial_values = np.array([fit[0], fit[1], fit[2]])  # update values for V0, theta0, V1 \n",
    "                               \n",
    "estimated_error = photodiode_error(theta, delta_V0, delta_theta, delta_V1, \n",
    "                                   fit[0], fit[1])       # propagate error using new values\n",
    "\n",
    "fit, covariance = curve_fit(polarization_model, theta, V_pd, \n",
    "                            p0 = initial_guess, \n",
    "                            sigma = estimated_error, absolute_sigma = True)\n",
    "\n",
    "error = np.sqrt(np.diag(covariance))\n",
    "\n",
    "print(old_fit)\n",
    "print(fit)\n",
    "\n",
    "old_fit = np.copy(fit)\n",
    "\n",
    "# goodness of fit evaluation\n",
    "\n",
    "V_pd_model = polarization_model(theta, fit[0], fit[1], fit[2])\n",
    "residual = V_pd - V_pd_model\n",
    "\n",
    "data_uncertainty = photodiode_error(theta, delta_V0, delta_theta, delta_V1, fit[0], fit[1])\n",
    "\n",
    "chisq = sum((residual/ data_uncertainty))**2\n",
    "degrees_of_freedom = len(residual) - len(initial_guess)\n",
    "reduced_chisq = chisq / degrees_of_freedom  # this should be close to one\n",
    "CDF = chi2.cdf(chisq, degrees_of_freedom)   # this should be close to 50 percent\n",
    "\n",
    "print()\n",
    "print('chi-square         = ',chisq)\n",
    "print('degrees of freedom = ',degrees_of_freedom)\n",
    "print('reduced chi-square = ',reduced_chisq)\n",
    "print('fractional probability of chisq ≤', chisq, 'for ', degrees_of_freedom, 'dof is', CDF)"
   ]
  },
  {
   "cell_type": "code",
   "execution_count": 15,
   "metadata": {},
   "outputs": [
    {
     "name": "stdout",
     "output_type": "stream",
     "text": [
      "[  3.26289974e+01  -2.01600389e-02   2.23016636e-02]\n",
      "[  3.26289974e+01  -2.01600294e-02   2.23017054e-02]\n",
      "\n",
      "chi-square         =  15.2781646011\n",
      "degrees of freedom =  22\n",
      "reduced chi-square =  0.694462027322\n",
      "fractional probability of chisq ≤ 15.2781646011 for  22 dof is 0.149973528047\n"
     ]
    }
   ],
   "source": [
    "new_initial_values = np.array([fit[0], fit[1], fit[2]])  # update values for V0, theta0, V1 \n",
    "                               \n",
    "estimated_error = photodiode_error(theta, delta_V0, delta_theta, delta_V1, \n",
    "                                   fit[0], fit[1])       # propagate error using new values\n",
    "\n",
    "fit, covariance = curve_fit(polarization_model, theta, V_pd, \n",
    "                            p0 = initial_guess, \n",
    "                            sigma = estimated_error, absolute_sigma = True)\n",
    "\n",
    "error = np.sqrt(np.diag(covariance))\n",
    "\n",
    "print(old_fit)\n",
    "print(fit)\n",
    "\n",
    "old_fit = np.copy(fit)\n",
    "\n",
    "# goodness of fit evaluation\n",
    "\n",
    "V_pd_model = polarization_model(theta, fit[0], fit[1], fit[2])\n",
    "residual = V_pd - V_pd_model\n",
    "\n",
    "data_uncertainty = photodiode_error(theta, delta_V0, delta_theta, delta_V1, fit[0], fit[1])\n",
    "\n",
    "chisq = sum((residual/ data_uncertainty))**2\n",
    "degrees_of_freedom = len(residual) - len(initial_guess)\n",
    "reduced_chisq = chisq / degrees_of_freedom  # this should be close to one\n",
    "CDF = chi2.cdf(chisq, degrees_of_freedom)   # this should be close to 50 percent\n",
    "\n",
    "print()\n",
    "print('chi-square         = ',chisq)\n",
    "print('degrees of freedom = ',degrees_of_freedom)\n",
    "print('reduced chi-square = ',reduced_chisq)\n",
    "print('fractional probability of chisq ≤', chisq, 'for ', degrees_of_freedom, 'dof is', CDF)"
   ]
  },
  {
   "cell_type": "code",
   "execution_count": 16,
   "metadata": {},
   "outputs": [
    {
     "name": "stdout",
     "output_type": "stream",
     "text": [
      "\n",
      "V_0     =  32.629  ± 0.020  mV\n",
      "V_1     =   0.022  ± 0.013  mV\n",
      "theta_0 =  -0.0202 ± 0.0020 radian\n",
      "        =  -1.155  ± 0.112 degrees\n"
     ]
    }
   ],
   "source": [
    "print()\n",
    "print('V_0     = ','{:.3f}'.format(fit[0]), ' ±', '{:.3f}'.format(error[0]), ' mV')\n",
    "print('V_1     = ',' {:.3f}'.format(fit[2]), ' ±', '{:.3f}'.format(error[2]), ' mV')\n",
    "print('theta_0 = ','{:.4f}'.format(fit[1]), '±', '{:.4f}'.format(error[1]), 'radian')\n",
    "print('        = ','{:.3f}'.format(fit[1]*180/np.pi), ' ±', '{:.3f}'.format(error[1]*180/np.pi), 'degrees')"
   ]
  },
  {
   "cell_type": "markdown",
   "metadata": {},
   "source": [
    "## graph results"
   ]
  },
  {
   "cell_type": "code",
   "execution_count": 17,
   "metadata": {},
   "outputs": [
    {
     "data": {
      "image/png": "[encoded data removed]",
      "text/plain": [
       "<matplotlib.figure.Figure at 0x7fbe6d0eb0f0>"
      ]
     },
     "metadata": {},
     "output_type": "display_data"
    }
   ],
   "source": [
    "plt.figure(figsize = (11,8))                  #specify figure size as 7 x 5 inches\n",
    "                                             #for default size, type plt.figure() \n",
    "                                             \n",
    "plt.xlabel(r\"$\\theta$ [degrees]\", fontsize = 18) #label axis (using LaTeX commands)\n",
    "plt.ylabel(r\"$V_{pd}$ [volts]\", fontsize = 18)   #use 18 point font for label text\n",
    "\n",
    "# plot the data as before in blue\n",
    "plt.errorbar(angle, V_pd,  \n",
    "    xerr=None, yerr=V_pd_error, \n",
    "    linestyle = 'none', \n",
    "    color = 'blue',  \n",
    "    capsize = 3, capthick = 1, label = \"data\")\n",
    "\n",
    "#create curve showing fit to data \n",
    "angle_fit = np.linspace(0, 360, 180)\n",
    "theta_fit = angle_fit * np.pi / 180\n",
    "V_pd_fit = polarization_model(theta_fit, fit[0], fit[1], fit[2])\n",
    "\n",
    "#plot the curve fit in red\n",
    "plt.errorbar(angle_fit, V_pd_fit, xerr = None, yerr = None, color = 'red', label = 'fit' )\n",
    "plt.xlim(-15, 375)\n",
    "plt.ylim(-2.5, 40)\n",
    "plt.xticks([0,   30, 60, 90, 120, 150, 180, 210, 240, 270, 300, 330, 360], \n",
    "           ('0', '', '', 90,  '',  '', 180,  '',  '', 270,  '',  '', 360))\n",
    "plt.legend(loc = 'best')\n",
    "    \n",
    "plt.show()  \n"
   ]
  },
  {
   "cell_type": "code",
   "execution_count": null,
   "metadata": {},
   "outputs": [],
   "source": []
  }
 ],
 "metadata": {
  "kernelspec": {
   "display_name": "Python 3",
   "language": "python",
   "name": "python3"
  },
  "language_info": {
   "codemirror_mode": {
    "name": "ipython",
    "version": 3
   },
   "file_extension": ".py",
   "mimetype": "text/x-python",
   "name": "python",
   "nbconvert_exporter": "python",
   "pygments_lexer": "ipython3",
   "version": "3.6.5"
  }
 },
 "nbformat": 4,
 "nbformat_minor": 2
}
