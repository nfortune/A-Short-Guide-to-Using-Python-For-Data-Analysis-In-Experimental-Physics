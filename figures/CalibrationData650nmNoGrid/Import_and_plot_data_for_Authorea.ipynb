{
 "cells": [
  {
   "cell_type": "markdown",
   "metadata": {},
   "source": [
    "# Sample Data Import and Plotting\n",
    "\n",
    "This example shows how to import and plot data from a 'comma separated variable' (CSV) spreadsheet."
   ]
  },
  {
   "cell_type": "markdown",
   "metadata": {},
   "source": [
    "## import needed functions"
   ]
  },
  {
   "cell_type": "code",
   "execution_count": 1,
   "metadata": {},
   "outputs": [],
   "source": [
    "# import needed functions from numpy, matplotlib\n",
    "\n",
    "from numpy import loadtxt, savetxt, array\n",
    "# from matplotlib import pyplot, rc\n",
    "\n",
    "default_size = 12 # change matplotlib default font size from 10 to 12\n",
    "# rc('xtick', labelsize = default_size)\n",
    "# rc('ytick', labelsize = default_size)\n",
    "\n",
    "import matplotlib as mpl\n",
    "import matplotlib.pyplot as plt\n",
    "mpl.rc('xtick', labelsize = default_size)\n",
    "mpl.rc('ytick', labelsize = default_size)\n",
    "\n",
    "%matplotlib inline"
   ]
  },
  {
   "cell_type": "markdown",
   "metadata": {},
   "source": [
    "## import data from spreadsheet"
   ]
  },
  {
   "cell_type": "markdown",
   "metadata": {},
   "source": [
    "### data import command"
   ]
  },
  {
   "cell_type": "code",
   "execution_count": 2,
   "metadata": {},
   "outputs": [],
   "source": [
    "filename = '650 nm calibration with error.csv'\n",
    "\n",
    "angle, V_pd, V_pd_delta = loadtxt(filename, \n",
    "    delimiter = ',', \n",
    "    skiprows = 1, \n",
    "    unpack = True)"
   ]
  },
  {
   "cell_type": "markdown",
   "metadata": {},
   "source": [
    "### explanation of data import command\n",
    "\n",
    "Here is a short explanation of each element in the load text file command: "
   ]
  },
  {
   "cell_type": "markdown",
   "metadata": {},
   "source": [
    "#### identify the data file\n",
    "```\n",
    "filename = '650 nm calibration with error.csv'\n",
    "```\n",
    "This says the name of the data file to be loaded is  '650 nm calibration with error.csv' where .csv means it is a comma separated variable (CSV) text file. The .csv text file was created by entering data into a spreadsheet program such as Microsoft Excel or Google Sheets and then exporting that data as a CSV file. \n",
    "\n",
    "A .csv file is nothing all that mysterious. Go ahead and take a look at the csv file using a text editor. You will see that is a text file in which the data points in a particular row (x_i,y_i, dy_i) are separated by commas. In this particular file, the data is preceded by a 'header' row of text indicating the names corresponding to each data column. "
   ]
  },
  {
   "cell_type": "markdown",
   "metadata": {},
   "source": [
    "##### create data arrays corresponding to each data column\n",
    "\n",
    "```\n",
    "angle, V_pd, V_pd_delta = loadtxt(filename, ...)\n",
    "```\n",
    "This says to create three data arrays named 'angle', 'V_pd', and 'V_pd_delta', one for each of the 3 columns of data in the original spreadsheet. \n"
   ]
  },
  {
   "cell_type": "markdown",
   "metadata": {},
   "source": [
    "##### specify data column delimiter \n",
    "```\n",
    "delimiter = ',' \n",
    "```\n",
    "Because this is a csv file, the delimiter that divides data into columns is a comma. Other kinds of spreadsheet files might use spaces, tabs, or pipes (delimiter = '|') in which case you can adjust accordingly. See [https://docs.scipy.org/doc/numpy/reference/generated/numpy.loadtxt.html#numpy.loadtxt ] for options and further details. "
   ]
  },
  {
   "cell_type": "markdown",
   "metadata": {},
   "source": [
    "##### specify number of rows of text before data begins \n",
    "```\n",
    "skiprows = 1\n",
    "```\n",
    "There is one (1) initial row of text preceding the data, and we need to skip it."
   ]
  },
  {
   "cell_type": "markdown",
   "metadata": {},
   "source": [
    "##### 'unpack' the data \n",
    "```\n",
    "unpack = True\n",
    "```\n",
    "This last command has a default setting of FALSE. We need to reset it to TRUE for spreadsheet data originally entered in columns.  'unpack = True' means that the data arrives 'packed' in the form (x_1, y_1, dy_1), (x_2, y_2, dy_2), etc  instead of (x_1, x_2, x_3 ....), (y_1, y_2, y_3, ...), etc and therefore needs to be 'unpacked.' "
   ]
  },
  {
   "cell_type": "markdown",
   "metadata": {},
   "source": [
    "## plot the data (with uncertainty) \n",
    "    \n",
    "We plan to plot V_pd as a function of angle, and will use 'V_pd_delta' to The first column of data ('angle') will be the 'x' data in our plot, the 2nd column 'V_pd\" will be the 'y' data, and the third column is the uncertainty in the y data. "
   ]
  },
  {
   "cell_type": "code",
   "execution_count": 3,
   "metadata": {},
   "outputs": [],
   "source": [
    "#change default settings\n",
    "mpl.rc('xtick', labelsize = 18) #18 point font\n",
    "mpl.rc('ytick', labelsize = 18) #18 point font"
   ]
  },
  {
   "cell_type": "code",
   "execution_count": 4,
   "metadata": {},
   "outputs": [
    {
     "data": {
      "image/png": "[encoded data removed]",
      "text/plain": [
       "<matplotlib.figure.Figure at 0x111e411d0>"
      ]
     },
     "metadata": {},
     "output_type": "display_data"
    }
   ],
   "source": [
    "#specify that you want to create a new figure. This is mandatory\n",
    "\n",
    "#plt.figure() #this is the default command\n",
    "plt.figure(figsize = (7,5)) # specify size of figure, in inches\n",
    "\n",
    "#label axes, chose font size \n",
    "\n",
    "plt.xlabel(r\"$\\theta$ [degrees]\", fontsize = 18)\n",
    "plt.ylabel(r\"$V_{pd}$ [volts]\", fontsize = 18)\n",
    "\n",
    "#plot the data! \n",
    "plt.errorbar(\n",
    "    angle, V_pd,  xerr=None, yerr=V_pd_delta, \n",
    "    linestyle = 'none', color = 'blue',  capsize = 3, capthick = 1)\n",
    "\n",
    "#pyplot.errorbar(angle, V_pd, xerr = None, yerr = None, \n",
    "#                fmt = 'o', color = 'red', linewidth = 1, fillstyle = 'none')\n",
    "\n",
    "plt.show()\n"
   ]
  },
  {
   "cell_type": "code",
   "execution_count": 5,
   "metadata": {},
   "outputs": [
    {
     "data": {
      "image/png": "[encoded data removed]",
      "text/plain": [
       "<matplotlib.figure.Figure at 0x11792cf98>"
      ]
     },
     "metadata": {},
     "output_type": "display_data"
    }
   ],
   "source": [
    "#here is an expanded version with additional options specified\n",
    "\n",
    "#plt.figure() #this is the default command\n",
    "plt.figure(figsize = (7,5)) # specify size of figure, in inches\n",
    "\n",
    "#label axes, chose font size \n",
    "\n",
    "plt.xlabel(r\"$\\theta$ [degrees]\", fontsize = 18)\n",
    "plt.ylabel(r\"$V_{pd}$ [volts]\", fontsize = 18)\n",
    "\n",
    "#plot data as error bars\n",
    "plt.errorbar(\n",
    "    angle, V_pd,  xerr=None, yerr=V_pd_delta, \n",
    "    linestyle = 'none', color = 'blue',  capsize = 3, capthick = 1)\n",
    "\n",
    "#plot data as hollow circles with error bars\n",
    "#plt.errorbar(\n",
    "#    angle, V_pd,  xerr=None, yerr=V_pd_delta, \n",
    "#    fmt = 'o', linewidth = 1, fillstyle = 'none', \n",
    "#    linestyle = 'none', color = 'black',  capsize = 3, capthick = 1)\n",
    "\n",
    "#replot data as hollow circles without error bars\n",
    "plt.errorbar(angle, V_pd, xerr = None, yerr = None, \n",
    "                fmt = 'o', color = 'red', linewidth = 1, fillstyle = 'none')\n",
    "\n",
    "#specify caption, if desired\n",
    "\n",
    "figurenumber = 1\n",
    "caption = 'Figure ' + str(figurenumber) + ': 650 nm data'\n",
    "plt.title(caption, fontsize = 24)\n",
    "\n",
    "#define the axis limits (or omit for autoscaling)\n",
    "plt.xlim(0, 360)\n",
    "plt.xticks([0, 90, 180,  270, 360])\n",
    "#plt.ylim(-10, 40)\n",
    "\n",
    "#specify grid parameters\n",
    "\n",
    "#plt.grid(0) #turn grid off\n",
    "plt.grid(1, which = 'both', color = 'green', linewidth = 1, alpha = 0.25) \n",
    "\n",
    "#plt.minorticks_off()\n",
    "plt.minorticks_on()\n",
    "\n",
    "#alternative to a grid: create a horizontal line at y = 0\n",
    "#plt.hlines(0, 0, 360, \n",
    "#   linestyle = 'dashed', color = 'green', linewidths = 1)\n",
    "\n",
    "plt.show()\n"
   ]
  },
  {
   "cell_type": "code",
   "execution_count": 6,
   "metadata": {},
   "outputs": [],
   "source": [
    "# restore default matplotlib settings\n",
    "mpl.rc('xtick', labelsize = default_size)\n",
    "mpl.rc('ytick', labelsize = default_size)"
   ]
  },
  {
   "cell_type": "markdown",
   "metadata": {},
   "source": [
    "### saving data to CSV spreadsheet file\n",
    "\n",
    "For completeness, we now show how to export the data to a csv file. There are many other ways to do this.  We like ours. "
   ]
  },
  {
   "cell_type": "code",
   "execution_count": 7,
   "metadata": {},
   "outputs": [],
   "source": [
    "# from numpy import loadtxt, savetxt, array # already done at beginning of notebook! \n",
    "\n",
    "output_filename = 'output.csv'              #provide a name for the new file\n",
    "header_row_text = 'angle, V_pd, V_pd_delta' #make first row of file be a list of column names. Optional. \n",
    "comment_text = ''                           #do not start header row with a '#'. Optional. \n",
    "#comment_text = '#'                         #start the header row with a '#' . Default setting. \n",
    "\n",
    "data = array([angle, V_pd, V_pd_delta]).T   #create a 2D matrix. Transpose rows and columns. \n",
    "savetxt(output_filename, data, \n",
    "        delimiter = ',', \n",
    "        header = header_row_text, \n",
    "        comments = comment_text) "
   ]
  },
  {
   "cell_type": "markdown",
   "metadata": {},
   "source": [
    "Note:  ordinarily, savetxt  would save the data  with each variable corresponding to a different row instead of to a different column.  That is, the default is to save the data in 'unpacked' format. This is often convenient for work within python but is not what we wanted  in this particular case. \n",
    "\n",
    "We therefore  did the following trick before saving the data to a file: we created a 2D matrix of our data with the command array([angle, V_pd, V_pd_delta]), then used the .T command to transpose the matrix , thereby flipping the rows and columns.  "
   ]
  },
  {
   "cell_type": "code",
   "execution_count": null,
   "metadata": {},
   "outputs": [],
   "source": []
  }
 ],
 "metadata": {
  "kernelspec": {
   "display_name": "Python 3",
   "language": "python",
   "name": "python3"
  },
  "language_info": {
   "codemirror_mode": {
    "name": "ipython",
    "version": 3
   },
   "file_extension": ".py",
   "mimetype": "text/x-python",
   "name": "python",
   "nbconvert_exporter": "python",
   "pygments_lexer": "ipython3",
   "version": "3.6.4"
  },
  "latex_envs": {
   "LaTeX_envs_menu_present": true,
   "autocomplete": true,
   "bibliofile": "biblio.bib",
   "cite_by": "apalike",
   "current_citInitial": 1,
   "eqLabelWithNumbers": true,
   "eqNumInitial": 1,
   "hotkeys": {
    "equation": "Ctrl-E",
    "itemize": "Ctrl-I"
   },
   "labels_anchors": false,
   "latex_user_defs": false,
   "report_style_numbering": false,
   "user_envs_cfg": false
  }
 },
 "nbformat": 4,
 "nbformat_minor": 2
}
