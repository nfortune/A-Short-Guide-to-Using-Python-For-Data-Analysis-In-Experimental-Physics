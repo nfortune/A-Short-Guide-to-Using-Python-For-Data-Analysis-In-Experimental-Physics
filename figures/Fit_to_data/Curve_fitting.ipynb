{
 "cells": [
  {
   "cell_type": "markdown",
   "metadata": {},
   "source": [
    "# initialization"
   ]
  },
  {
   "cell_type": "markdown",
   "metadata": {},
   "source": [
    "import matplotlib plotting routines"
   ]
  },
  {
   "cell_type": "code",
   "execution_count": 1,
   "metadata": {},
   "outputs": [],
   "source": [
    "%matplotlib inline"
   ]
  },
  {
   "cell_type": "code",
   "execution_count": 2,
   "metadata": {},
   "outputs": [],
   "source": [
    "import matplotlib as mpl\n",
    "import matplotlib.pyplot as plt \n",
    "\n",
    "default_size = 12 # change matplotlib default font size from 10 to 12\n",
    "mpl.rc('xtick', labelsize = default_size)\n",
    "mpl.rc('ytick', labelsize = default_size)"
   ]
  },
  {
   "cell_type": "markdown",
   "metadata": {},
   "source": [
    "import numpy (numerical python) routines"
   ]
  },
  {
   "cell_type": "code",
   "execution_count": 3,
   "metadata": {},
   "outputs": [],
   "source": [
    "# from numpy import *\n",
    "from numpy import loadtxt, savetxt, array, ndarray, linspace, cos, pi, sqrt, diag, average, absolute"
   ]
  },
  {
   "cell_type": "markdown",
   "metadata": {},
   "source": [
    "import scipy (scientific python) curve fitting and data analysis routines"
   ]
  },
  {
   "cell_type": "code",
   "execution_count": 4,
   "metadata": {},
   "outputs": [],
   "source": [
    "from scipy.optimize import curve_fit  # nonlinear curve fitting \n",
    "from scipy.stats import chi2          # 'chi-square' goodness of fit calculation"
   ]
  },
  {
   "cell_type": "markdown",
   "metadata": {},
   "source": [
    "# import data"
   ]
  },
  {
   "cell_type": "code",
   "execution_count": 5,
   "metadata": {},
   "outputs": [],
   "source": [
    "filename = '650 nm calibration with error.csv'\n",
    "\n",
    "angle, V_pd, V_pd_delta = loadtxt(filename, \n",
    "    delimiter = ',', \n",
    "    skiprows = 1, \n",
    "    unpack = True)"
   ]
  },
  {
   "cell_type": "code",
   "execution_count": 6,
   "metadata": {},
   "outputs": [
    {
     "data": {
      "image/png": "[encoded data removed]",
      "text/plain": [
       "<matplotlib.figure.Figure at 0x1141c7898>"
      ]
     },
     "metadata": {},
     "output_type": "display_data"
    }
   ],
   "source": [
    "plt.figure() \n",
    "\n",
    "#label axes, chose font size \n",
    "plt.xlabel(r\"$\\theta$ [degrees]\", fontsize = 12)\n",
    "plt.ylabel(r\"$V_{pd}$ [mV]\", fontsize = 12)\n",
    "plt.xticks([0, 90, 180, 270, 360])\n",
    "\n",
    "#plot the data! \n",
    "plt.errorbar(\n",
    "    angle, V_pd,  xerr=None, yerr=V_pd_delta, \n",
    "    linestyle = 'none', color = 'blue',  capsize = 3, capthick = 1)\n",
    "\n",
    "plt.show()\n"
   ]
  },
  {
   "cell_type": "markdown",
   "metadata": {},
   "source": [
    "# curve fitting to physical model\n",
    "\n",
    "variation of light intensity with relative polarizer angle $\\phi$"
   ]
  },
  {
   "cell_type": "markdown",
   "metadata": {},
   "source": [
    "## define mathematical model\n",
    "\n",
    "$ I(\\theta) = I_0 \\cos^2(\\theta - {\\theta}_0)+ \\textrm{offset} = \\frac{1}{2}I_0\\left[1 + \\cos(2 (\\theta - \\theta_0))\\right]+ \\textrm{offset}$ "
   ]
  },
  {
   "cell_type": "markdown",
   "metadata": {},
   "source": [
    "define Python function for calculation of $I(\\theta)$"
   ]
  },
  {
   "cell_type": "code",
   "execution_count": 7,
   "metadata": {},
   "outputs": [],
   "source": [
    "def polarization_model_1(phi, I_0, phi_0, offset): # variation of light intensity with relative polarizer angle phi\n",
    "    return I_0 * (1 + cos(2 * (phi - phi_0)))/2 + offset"
   ]
  },
  {
   "cell_type": "code",
   "execution_count": 8,
   "metadata": {},
   "outputs": [],
   "source": [
    "def polarization_model_2(phi, I_0, phi_0, offset):  # alternate mathematical formalism  \n",
    "    return I_0 * (cos((phi - phi_0)))**2 + offset"
   ]
  },
  {
   "cell_type": "markdown",
   "metadata": {},
   "source": [
    "make initial guess for fitting parameters"
   ]
  },
  {
   "cell_type": "code",
   "execution_count": 9,
   "metadata": {},
   "outputs": [],
   "source": [
    "# initial guess for polarization models \n",
    "I0 = 33.0    #peak value - offset voltage, in mV\n",
    "phi0 = 0.0   #offset angle, in radians\n",
    "offset0 = 0.2 #offset voltage, in mV\n",
    "\n",
    "initial_guess=array([I0, phi0, offset0])"
   ]
  },
  {
   "cell_type": "markdown",
   "metadata": {},
   "source": [
    "convert data from degrees to radians for calculation of cosine"
   ]
  },
  {
   "cell_type": "code",
   "execution_count": 10,
   "metadata": {},
   "outputs": [],
   "source": [
    "theta = angle * pi / 180  # convert to radians"
   ]
  },
  {
   "cell_type": "markdown",
   "metadata": {},
   "source": [
    "## run curve fit \n",
    "execute non-linear curve fit, taking into account experimentally inferred uncertainty (sigma)"
   ]
  },
  {
   "cell_type": "code",
   "execution_count": 11,
   "metadata": {},
   "outputs": [
    {
     "name": "stdout",
     "output_type": "stream",
     "text": [
      "\n",
      "I_0    =  32.621 ± 0.012  mV\n",
      "offset =  0.0226 ± 0.009  mV\n",
      "phi_0  =  -0.0182 ± 0.0009 radian\n",
      "       =  -1.0410 ± 0.0495 degrees\n"
     ]
    }
   ],
   "source": [
    "fit, covariance = curve_fit(polarization_model_1, theta, V_pd, \n",
    "                       p0 = initial_guess, \n",
    "                       sigma = V_pd_delta, absolute_sigma = True)\n",
    "\n",
    "#bounds=([0, -np.inf, 0], [np.inf, np.inf, 5]\n",
    "error = sqrt(diag(covariance))\n",
    "\n",
    "I_0 = fit[0]\n",
    "phi_0 = fit[1]\n",
    "offset = fit[2]\n",
    "\n",
    "print()\n",
    "print('I_0    = ','{:.3f}'.format(fit[0]), '±', '{:.3f}'.format(error[0]), ' mV')\n",
    "print('offset = ','{:.4f}'.format(fit[2]), '±', '{:.3f}'.format(error[2]), ' mV')\n",
    "print('phi_0  = ','{:.4f}'.format(fit[1]), '±', '{:.4f}'.format(error[1]), 'radian')\n",
    "\n",
    "print('       = ','{:.4f}'.format(fit[1]*180/pi), '±', '{:.4f}'.format(error[1]*180/pi), 'degrees')"
   ]
  },
  {
   "cell_type": "markdown",
   "metadata": {},
   "source": [
    "## show results"
   ]
  },
  {
   "cell_type": "code",
   "execution_count": 12,
   "metadata": {},
   "outputs": [
    {
     "data": {
      "image/png": "[encoded data removed]",
      "text/plain": [
       "<matplotlib.figure.Figure at 0x1154b0cc0>"
      ]
     },
     "metadata": {},
     "output_type": "display_data"
    }
   ],
   "source": [
    "plt.figure() \n",
    "\n",
    "#label axes, chose font size \n",
    "plt.xlabel(r\"$\\theta$ [degrees]\", fontsize = 12)\n",
    "plt.ylabel(r\"$V_{pd}$ [mV]\", fontsize = 12)\n",
    "\n",
    "#plot the data! \n",
    "plt.errorbar(\n",
    "    angle, V_pd,  xerr=None, yerr=V_pd_delta, \n",
    "    linestyle = 'none', color = 'blue',  capsize = 3, capthick = 1, label = 'data')\n",
    "\n",
    "#create curve showing fit to data \n",
    "angle_fit = linspace(0, 360, 180)\n",
    "theta_fit = angle_fit * pi / 180\n",
    "V_pd_fit = polarization_model_1(theta_fit, I_0, phi_0, offset)\n",
    "\n",
    "#plot the curve fit \n",
    "plt.errorbar(angle_fit, V_pd_fit, xerr = None, yerr = None, color = 'red', label = 'fit' )\n",
    "plt.xlim(0, 360)\n",
    "plt.ylim(-5, 45)\n",
    "plt.xticks([0,   30, 60, 90, 120, 150, 180, 210, 240, 270, 300, 330, 360], \n",
    "           ('0', '', '', 90,  '',  '', 180,  '',  '', 270,  '',  '', 360))\n",
    "plt.legend(loc = 'best')\n",
    "plt.show()\n"
   ]
  },
  {
   "cell_type": "markdown",
   "metadata": {},
   "source": [
    "# statistical analysis of fit"
   ]
  },
  {
   "cell_type": "markdown",
   "metadata": {},
   "source": [
    "## residuals"
   ]
  },
  {
   "cell_type": "code",
   "execution_count": 13,
   "metadata": {},
   "outputs": [
    {
     "data": {
      "image/png": "[encoded data removed]",
      "text/plain": [
       "<matplotlib.figure.Figure at 0x115435128>"
      ]
     },
     "metadata": {},
     "output_type": "display_data"
    },
    {
     "name": "stdout",
     "output_type": "stream",
     "text": [
      "average residual error |model-data|  = 0.192 mV\n",
      "average experimental uncertainty     = 0.176 mV\n"
     ]
    }
   ],
   "source": [
    "# residual analysis\n",
    "V_pd_model = polarization_model_1(theta, I_0, phi_0, offset)\n",
    "residual = V_pd - V_pd_model\n",
    "\n",
    "plt.figure()\n",
    "plt.xlabel(r\"$\\theta$ [degrees]\", fontsize = 12)\n",
    "plt.ylabel(r\"residual error [mV]\", fontsize = 12)\n",
    "plt.errorbar(angle, residual, xerr=None, yerr= V_pd_delta, linestyle = 'none', color = 'black', marker = 'o')\n",
    "plt.xticks([0,   30, 60, 90, 120, 150, 180, 210, 240, 270, 300, 330, 360], \n",
    "           ('0', '', '', 90,  '',  '', 180,  '',  '', 270,  '',  '', 360))\n",
    "plt.grid(1)\n",
    "plt.show()\n",
    "\n",
    "print('average residual error |model-data|  =', '{:.3f}'.format(average(absolute(residual))), 'mV')\n",
    "print('average experimental uncertainty     =', '{:.3f}'.format(average(V_pd_delta)), 'mV')"
   ]
  },
  {
   "cell_type": "markdown",
   "metadata": {},
   "source": [
    "## goodness of fit"
   ]
  },
  {
   "cell_type": "code",
   "execution_count": 14,
   "metadata": {},
   "outputs": [
    {
     "name": "stdout",
     "output_type": "stream",
     "text": [
      "chi-square         =  7.708430854265782\n",
      "degrees of freedom =  22\n",
      "reduced chi-square =  0.3503832206484446\n",
      "\n",
      "fractional probability of chisq ≤ 7.708430854265782 for  22 dof is 0.002148213541386696\n"
     ]
    }
   ],
   "source": [
    "chisq = sum((residual/ V_pd_delta))**2\n",
    "degrees_of_freedom = len(residual) - 3\n",
    "reduced_chisq = chisq / degrees_of_freedom\n",
    "CDF = chi2.cdf(chisq, degrees_of_freedom)\n",
    "print('chi-square         = ',chisq)\n",
    "print('degrees of freedom = ',degrees_of_freedom)\n",
    "print('reduced chi-square = ',reduced_chisq)\n",
    "print()\n",
    "print('fractional probability of chisq ≤', chisq, 'for ', degrees_of_freedom, 'dof is', CDF)"
   ]
  },
  {
   "cell_type": "markdown",
   "metadata": {},
   "source": [
    "Conclusion: fit looks good but it appears that overall, our experimental estimate of the uncertainty is too large. We will address this later when we consider propagation of uncertainty. "
   ]
  },
  {
   "cell_type": "code",
   "execution_count": null,
   "metadata": {},
   "outputs": [],
   "source": []
  }
 ],
 "metadata": {
  "kernelspec": {
   "display_name": "Python 3",
   "language": "python",
   "name": "python3"
  },
  "language_info": {
   "codemirror_mode": {
    "name": "ipython",
    "version": 3
   },
   "file_extension": ".py",
   "mimetype": "text/x-python",
   "name": "python",
   "nbconvert_exporter": "python",
   "pygments_lexer": "ipython3",
   "version": "3.6.4"
  },
  "latex_envs": {
   "LaTeX_envs_menu_present": true,
   "autocomplete": true,
   "bibliofile": "biblio.bib",
   "cite_by": "apalike",
   "current_citInitial": 1,
   "eqLabelWithNumbers": true,
   "eqNumInitial": 1,
   "hotkeys": {
    "equation": "Ctrl-E",
    "itemize": "Ctrl-I"
   },
   "labels_anchors": false,
   "latex_user_defs": false,
   "report_style_numbering": false,
   "user_envs_cfg": false
  }
 },
 "nbformat": 4,
 "nbformat_minor": 2
}
